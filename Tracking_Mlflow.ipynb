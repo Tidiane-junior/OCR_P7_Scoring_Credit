{
  "cells": [
    {
      "cell_type": "markdown",
      "metadata": {
        "id": "2E2jimfH1_TL"
      },
      "source": [
        "# **Entrainer et gérer mes modèles avec MLFLOW**"
      ]
    },
    {
      "cell_type": "markdown",
      "metadata": {
        "id": "tN3sZiz52RPu"
      },
      "source": [
        "### **Librairies nécessaires**"
      ]
    },
    {
      "cell_type": "code",
      "execution_count": 33,
      "metadata": {
        "id": "1xnF01_5186P"
      },
      "outputs": [],
      "source": [
        "# libriaries nécessaires pour la manipulation\n",
        "import numpy as np\n",
        "import pandas as pd\n",
        "# Pour la visualisation\n",
        "import matplotlib.pyplot as plt\n",
        "import seaborn as sns\n",
        "import plotly.express as px\n",
        "\n",
        "# Encodage des variables catégorielles et normalisation des variables numériques\n",
        "from sklearn.preprocessing import LabelEncoder, OneHotEncoder, StandardScaler, MinMaxScaler\n",
        "from sklearn.impute import SimpleImputer # Gérer les NaNs\n",
        "\n",
        "# Split du dataset et validation croisée\n",
        "from sklearn.model_selection import train_test_split, GridSearchCV\n",
        "\n",
        "from sklearn.pipeline import Pipeline\n",
        "from sklearn.compose import ColumnTransformer\n",
        "\n",
        "# Modèles de classification\n",
        "from sklearn.linear_model import LogisticRegression\n",
        "from sklearn.ensemble import RandomForestClassifier\n",
        "import mlflow.lightgbm\n",
        "import lightgbm as lgb\n",
        "from lightgbm import LGBMClassifier\n",
        "\n",
        "# Métriques d'évaluation\n",
        "from sklearn.metrics import classification_report, roc_auc_score, f1_score, fbeta_score, accuracy_score\n",
        "from sklearn.metrics import confusion_matrix, roc_curve, auc, precision_recall_curve\n",
        "from sklearn.model_selection import KFold # Pour diviser le dataset en pli\n",
        "\n",
        "\n",
        "import gc  # Pour libérer la mémoire\n",
        "import os # Gestion du système de fichiers du drive\n",
        "\n",
        "# Supprimer les avertissements\n",
        "import warnings\n",
        "warnings.filterwarnings('ignore')\n",
        "\n",
        "import joblib"
      ]
    },
    {
      "cell_type": "markdown",
      "metadata": {
        "id": "EsATObSR2cm8"
      },
      "source": [
        "**Chargement des données**"
      ]
    },
    {
      "cell_type": "code",
      "execution_count": 34,
      "metadata": {
        "colab": {
          "base_uri": "https://localhost:8080/",
          "height": 244
        },
        "id": "cA7hJb-R2gwf",
        "outputId": "874bb268-20cc-4a94-caa2-ef0846e6fc9e"
      },
      "outputs": [
        {
          "name": "stdout",
          "output_type": "stream",
          "text": [
            "Dimension des données:  (244774, 14)\n"
          ]
        },
        {
          "data": {
            "text/html": [
              "<div>\n",
              "<style scoped>\n",
              "    .dataframe tbody tr th:only-of-type {\n",
              "        vertical-align: middle;\n",
              "    }\n",
              "\n",
              "    .dataframe tbody tr th {\n",
              "        vertical-align: top;\n",
              "    }\n",
              "\n",
              "    .dataframe thead th {\n",
              "        text-align: right;\n",
              "    }\n",
              "</style>\n",
              "<table border=\"1\" class=\"dataframe\">\n",
              "  <thead>\n",
              "    <tr style=\"text-align: right;\">\n",
              "      <th></th>\n",
              "      <th>SK_ID_CURR</th>\n",
              "      <th>TARGET</th>\n",
              "      <th>EXT_SOURCE_3</th>\n",
              "      <th>EXT_SOURCE_2</th>\n",
              "      <th>DAYS_BIRTH</th>\n",
              "      <th>bureau_DAYS_CREDIT_max</th>\n",
              "      <th>bureau_DAYS_CREDIT_min</th>\n",
              "      <th>bureau_DAYS_CREDIT_UPDATE_mean</th>\n",
              "      <th>bureau_DAYS_CREDIT_mean</th>\n",
              "      <th>bureau_CREDIT_ACTIVE_Closed_mean</th>\n",
              "      <th>NAME_CONTRACT_TYPE</th>\n",
              "      <th>CODE_GENDER</th>\n",
              "      <th>FLAG_OWN_CAR</th>\n",
              "      <th>bureau_CREDIT_ACTIVE_Active_mean</th>\n",
              "    </tr>\n",
              "  </thead>\n",
              "  <tbody>\n",
              "    <tr>\n",
              "      <th>0</th>\n",
              "      <td>100002</td>\n",
              "      <td>1</td>\n",
              "      <td>0.139404</td>\n",
              "      <td>0.262939</td>\n",
              "      <td>-9461.0</td>\n",
              "      <td>-103.0</td>\n",
              "      <td>-1437.0</td>\n",
              "      <td>-500.0</td>\n",
              "      <td>-874.0</td>\n",
              "      <td>0.750000</td>\n",
              "      <td>Cash loans</td>\n",
              "      <td>M</td>\n",
              "      <td>N</td>\n",
              "      <td>0.250000</td>\n",
              "    </tr>\n",
              "    <tr>\n",
              "      <th>2</th>\n",
              "      <td>100004</td>\n",
              "      <td>0</td>\n",
              "      <td>0.729492</td>\n",
              "      <td>0.556152</td>\n",
              "      <td>-19046.0</td>\n",
              "      <td>-408.0</td>\n",
              "      <td>-1326.0</td>\n",
              "      <td>-532.0</td>\n",
              "      <td>-867.0</td>\n",
              "      <td>1.000000</td>\n",
              "      <td>Revolving loans</td>\n",
              "      <td>M</td>\n",
              "      <td>Y</td>\n",
              "      <td>0.000000</td>\n",
              "    </tr>\n",
              "    <tr>\n",
              "      <th>5</th>\n",
              "      <td>100008</td>\n",
              "      <td>0</td>\n",
              "      <td>0.621094</td>\n",
              "      <td>0.354248</td>\n",
              "      <td>-16941.0</td>\n",
              "      <td>-78.0</td>\n",
              "      <td>-1097.0</td>\n",
              "      <td>-611.0</td>\n",
              "      <td>-757.5</td>\n",
              "      <td>0.666504</td>\n",
              "      <td>Cash loans</td>\n",
              "      <td>M</td>\n",
              "      <td>N</td>\n",
              "      <td>0.333252</td>\n",
              "    </tr>\n",
              "    <tr>\n",
              "      <th>6</th>\n",
              "      <td>100009</td>\n",
              "      <td>0</td>\n",
              "      <td>0.491943</td>\n",
              "      <td>0.724121</td>\n",
              "      <td>-13778.0</td>\n",
              "      <td>-239.0</td>\n",
              "      <td>-2882.0</td>\n",
              "      <td>-851.5</td>\n",
              "      <td>-1272.0</td>\n",
              "      <td>0.777832</td>\n",
              "      <td>Cash loans</td>\n",
              "      <td>F</td>\n",
              "      <td>Y</td>\n",
              "      <td>0.222168</td>\n",
              "    </tr>\n",
              "    <tr>\n",
              "      <th>7</th>\n",
              "      <td>100010</td>\n",
              "      <td>0</td>\n",
              "      <td>0.540527</td>\n",
              "      <td>0.714355</td>\n",
              "      <td>-18850.0</td>\n",
              "      <td>-1138.0</td>\n",
              "      <td>-2740.0</td>\n",
              "      <td>-578.0</td>\n",
              "      <td>-1940.0</td>\n",
              "      <td>0.500000</td>\n",
              "      <td>Cash loans</td>\n",
              "      <td>M</td>\n",
              "      <td>Y</td>\n",
              "      <td>0.500000</td>\n",
              "    </tr>\n",
              "  </tbody>\n",
              "</table>\n",
              "</div>"
            ],
            "text/plain": [
              "   SK_ID_CURR  TARGET  EXT_SOURCE_3  EXT_SOURCE_2  DAYS_BIRTH   \n",
              "0      100002       1      0.139404      0.262939     -9461.0  \\\n",
              "2      100004       0      0.729492      0.556152    -19046.0   \n",
              "5      100008       0      0.621094      0.354248    -16941.0   \n",
              "6      100009       0      0.491943      0.724121    -13778.0   \n",
              "7      100010       0      0.540527      0.714355    -18850.0   \n",
              "\n",
              "   bureau_DAYS_CREDIT_max  bureau_DAYS_CREDIT_min   \n",
              "0                  -103.0                 -1437.0  \\\n",
              "2                  -408.0                 -1326.0   \n",
              "5                   -78.0                 -1097.0   \n",
              "6                  -239.0                 -2882.0   \n",
              "7                 -1138.0                 -2740.0   \n",
              "\n",
              "   bureau_DAYS_CREDIT_UPDATE_mean  bureau_DAYS_CREDIT_mean   \n",
              "0                          -500.0                   -874.0  \\\n",
              "2                          -532.0                   -867.0   \n",
              "5                          -611.0                   -757.5   \n",
              "6                          -851.5                  -1272.0   \n",
              "7                          -578.0                  -1940.0   \n",
              "\n",
              "   bureau_CREDIT_ACTIVE_Closed_mean NAME_CONTRACT_TYPE CODE_GENDER   \n",
              "0                          0.750000         Cash loans           M  \\\n",
              "2                          1.000000    Revolving loans           M   \n",
              "5                          0.666504         Cash loans           M   \n",
              "6                          0.777832         Cash loans           F   \n",
              "7                          0.500000         Cash loans           M   \n",
              "\n",
              "  FLAG_OWN_CAR  bureau_CREDIT_ACTIVE_Active_mean  \n",
              "0            N                          0.250000  \n",
              "2            Y                          0.000000  \n",
              "5            N                          0.333252  \n",
              "6            Y                          0.222168  \n",
              "7            Y                          0.500000  "
            ]
          },
          "execution_count": 34,
          "metadata": {},
          "output_type": "execute_result"
        }
      ],
      "source": [
        "# %%\n",
        "# Chargement des données\n",
        "data = pd.read_pickle('train_red_format.pkl')\n",
        "print('Dimension des données: ', data.shape)\n",
        "data.head()\n"
      ]
    },
    {
      "cell_type": "markdown",
      "metadata": {
        "id": "6RrZpvdG3YWI"
      },
      "source": [
        "**Pre-processing**"
      ]
    },
    {
      "cell_type": "code",
      "execution_count": 35,
      "metadata": {
        "colab": {
          "base_uri": "https://localhost:8080/"
        },
        "id": "7OAyYaCS3btN",
        "outputId": "47697db5-afd1-4fc8-a362-c3c28ea18e50"
      },
      "outputs": [
        {
          "name": "stdout",
          "output_type": "stream",
          "text": [
            "Index(['EXT_SOURCE_3', 'EXT_SOURCE_2', 'DAYS_BIRTH', 'bureau_DAYS_CREDIT_max',\n",
            "       'bureau_DAYS_CREDIT_min', 'bureau_DAYS_CREDIT_UPDATE_mean',\n",
            "       'bureau_DAYS_CREDIT_mean', 'bureau_CREDIT_ACTIVE_Closed_mean',\n",
            "       'bureau_CREDIT_ACTIVE_Active_mean'],\n",
            "      dtype='object')\n",
            "Index(['NAME_CONTRACT_TYPE', 'CODE_GENDER', 'FLAG_OWN_CAR'], dtype='object')\n",
            "<class 'pandas.core.frame.DataFrame'>\n",
            "Index: 244774 entries, 0 to 307510\n",
            "Data columns (total 15 columns):\n",
            " #   Column                              Non-Null Count   Dtype  \n",
            "---  ------                              --------------   -----  \n",
            " 0   SK_ID_CURR                          244774 non-null  int32  \n",
            " 1   TARGET                              244774 non-null  int8   \n",
            " 2   EXT_SOURCE_3                        244774 non-null  float16\n",
            " 3   EXT_SOURCE_2                        244774 non-null  float16\n",
            " 4   DAYS_BIRTH                          244774 non-null  float32\n",
            " 5   bureau_DAYS_CREDIT_max              244774 non-null  float16\n",
            " 6   bureau_DAYS_CREDIT_min              244774 non-null  float16\n",
            " 7   bureau_DAYS_CREDIT_UPDATE_mean      244774 non-null  float16\n",
            " 8   bureau_DAYS_CREDIT_mean             244774 non-null  float16\n",
            " 9   bureau_CREDIT_ACTIVE_Closed_mean    244774 non-null  float16\n",
            " 10  bureau_CREDIT_ACTIVE_Active_mean    244774 non-null  float16\n",
            " 11  NAME_CONTRACT_TYPE_Revolving loans  244774 non-null  bool   \n",
            " 12  CODE_GENDER_M                       244774 non-null  bool   \n",
            " 13  CODE_GENDER_XNA                     244774 non-null  bool   \n",
            " 14  FLAG_OWN_CAR_Y                      244774 non-null  bool   \n",
            "dtypes: bool(4), float16(8), float32(1), int32(1), int8(1)\n",
            "memory usage: 8.6 MB\n"
          ]
        }
      ],
      "source": [
        "# Séparer les colonnes numériques et catégoriques\n",
        "df = data.copy()\n",
        "categorical_cols = df.select_dtypes(include = \"object\").columns\n",
        "numeric_cols = df.drop(['TARGET', 'SK_ID_CURR'], axis = 1).select_dtypes(exclude = \"object\").columns\n",
        "\n",
        "print(numeric_cols)\n",
        "print(categorical_cols)\n",
        "\n",
        "# %%\n",
        "# Encodage des catégorielles avec One-Hot\n",
        "df = pd.get_dummies(df, columns=categorical_cols, drop_first=True)\n",
        "df.info()\n",
        "\n",
        "# %%\n",
        "df['NAME_CONTRACT_TYPE_Revolving loans'].unique()\n",
        "\n",
        "\n",
        "# %% Normalisation des données numériques\n",
        "# Instancier le scaler\n",
        "scaler = MinMaxScaler()\n",
        "\n",
        "# Normaliser uniquement les colonnes numériques\n",
        "df[numeric_cols] = scaler.fit_transform(df[numeric_cols])\n"
      ]
    },
    {
      "cell_type": "markdown",
      "metadata": {
        "id": "pPpbwha54qBE"
      },
      "source": [
        "#### **Spliter le dataset**"
      ]
    },
    {
      "cell_type": "code",
      "execution_count": 36,
      "metadata": {
        "colab": {
          "base_uri": "https://localhost:8080/"
        },
        "id": "kuQfz1844vQF",
        "outputId": "1a7f774a-234e-42e8-c545-86c5fb0790c6"
      },
      "outputs": [
        {
          "name": "stdout",
          "output_type": "stream",
          "text": [
            "Taille du jeu d'entraînement : (195819, 14)\n",
            "Taille du jeu de test : (48955, 14)\n"
          ]
        }
      ],
      "source": [
        "# Séparation X (features) et y (cible)\n",
        "X = df.drop(columns=['TARGET'])  # Exclure la cible et l'identifiant client\n",
        "y = df['TARGET']\n",
        "\n",
        "seed = 123\n",
        "# Division en jeux d'entraînement et de test\n",
        "X_train, X_test, y_train, y_test = train_test_split(\n",
        "    X, y, test_size=0.2, random_state=seed, stratify=y  # Stratify pour garder le déséquilibre\n",
        ")\n",
        "\n",
        "print(f\"Taille du jeu d'entraînement : {X_train.shape}\")\n",
        "print(f\"Taille du jeu de test : {X_test.shape}\")"
      ]
    },
    {
      "cell_type": "markdown",
      "metadata": {
        "id": "7ur7lwQ96Y7f"
      },
      "source": [
        "### **Entrainement**"
      ]
    },
    {
      "cell_type": "markdown",
      "metadata": {
        "id": "koo96p8PDQfq"
      },
      "source": [
        "**Modèle LGBMClassifier**"
      ]
    },
    {
      "cell_type": "code",
      "execution_count": 44,
      "metadata": {
        "colab": {
          "base_uri": "https://localhost:8080/",
          "height": 237
        },
        "collapsed": true,
        "id": "ePmdEVRR5kwg",
        "outputId": "a13eccfa-a220-4681-f28b-43404f9209e4"
      },
      "outputs": [],
      "source": [
        "# Définir le modèle et les hyperparamètres\n",
        "lgbm = LGBMClassifier(class_weight={0: 1, 1: 10}, # Poids des classes\n",
        "                      random_state=seed\n",
        "                      )\n",
        "\n",
        "param_grid_lgbm = {\n",
        "    'num_leaves': [31, 50],\n",
        "    'max_depth': [10, 15],\n",
        "    'learning_rate': [0.01, 0.1],\n",
        "    'n_estimators': [100, 200]\n",
        "}\n",
        "\n",
        "# GridSearch avec Cross-Validation\n",
        "grid_lgbm = GridSearchCV(estimator=lgbm,\n",
        "                         param_grid=param_grid_lgbm, # Hyperparamètres\n",
        "                         scoring='f1', # Métrique d'évaluation\n",
        "                         cv=3, # Nombre de folds de la validation croisée\n",
        "                         n_jobs=-1\n",
        "                         )\n"
      ]
    },
    {
      "cell_type": "code",
      "execution_count": 45,
      "metadata": {},
      "outputs": [
        {
          "name": "stderr",
          "output_type": "stream",
          "text": [
            "2025/01/07 01:27:09 INFO mlflow.utils.autologging_utils: Created MLflow autologging run with ID '8b28a1c4f86040bfb200587d4f30728c', which will track hyperparameters, performance metrics, model artifacts, and lineage information for the current sklearn workflow\n"
          ]
        },
        {
          "name": "stdout",
          "output_type": "stream",
          "text": [
            "[LightGBM] [Warning] Accuracy may be bad since you didn't explicitly set num_leaves OR 2^max_depth > num_leaves. (num_leaves=31).\n",
            "[LightGBM] [Warning] Found whitespace in feature_names, replace with underlines\n",
            "[LightGBM] [Warning] Accuracy may be bad since you didn't explicitly set num_leaves OR 2^max_depth > num_leaves. (num_leaves=31).\n",
            "[LightGBM] [Info] Number of positive: 15214, number of negative: 180605\n",
            "[LightGBM] [Info] Auto-choosing row-wise multi-threading, the overhead of testing was 0.145439 seconds.\n",
            "You can set `force_row_wise=true` to remove the overhead.\n",
            "And if memory is not enough, you can set `force_col_wise=true`.\n",
            "[LightGBM] [Info] Total Bins 2308\n",
            "[LightGBM] [Info] Number of data points in the train set: 195819, number of used features: 13\n",
            "[LightGBM] [Info] [binary:BoostFromScore]: pavg=0.457227 -> initscore=-0.171511\n",
            "[LightGBM] [Info] Start training from score -0.171511\n",
            "[LightGBM] [Warning] Accuracy may be bad since you didn't explicitly set num_leaves OR 2^max_depth > num_leaves. (num_leaves=31).\n",
            "[LightGBM] [Warning] Accuracy may be bad since you didn't explicitly set num_leaves OR 2^max_depth > num_leaves. (num_leaves=31).\n",
            "[LightGBM] [Warning] Accuracy may be bad since you didn't explicitly set num_leaves OR 2^max_depth > num_leaves. (num_leaves=31).\n",
            "[LightGBM] [Warning] Accuracy may be bad since you didn't explicitly set num_leaves OR 2^max_depth > num_leaves. (num_leaves=31).\n",
            "[LightGBM] [Warning] Accuracy may be bad since you didn't explicitly set num_leaves OR 2^max_depth > num_leaves. (num_leaves=31).\n",
            "[LightGBM] [Warning] Accuracy may be bad since you didn't explicitly set num_leaves OR 2^max_depth > num_leaves. (num_leaves=31).\n",
            "[LightGBM] [Warning] Accuracy may be bad since you didn't explicitly set num_leaves OR 2^max_depth > num_leaves. (num_leaves=31).\n"
          ]
        },
        {
          "name": "stderr",
          "output_type": "stream",
          "text": [
            "2025/01/07 01:31:29 INFO mlflow.sklearn.utils: Logging the 5 best runs, 11 runs will be omitted.\n"
          ]
        },
        {
          "name": "stdout",
          "output_type": "stream",
          "text": [
            "LightGBM - Best Params: {'learning_rate': 0.1, 'max_depth': 15, 'n_estimators': 200, 'num_leaves': 31}, Best F1-Score: 0.2663\n"
          ]
        }
      ],
      "source": [
        "# Entraînement\n",
        "grid_lgbm.fit(X_train, y_train)\n",
        "\n",
        "# Résultats\n",
        "best_lgbm_params = grid_lgbm.best_params_ # Meilleurs hyperparamètres\n",
        "best_lgbm_score = grid_lgbm.best_score_ # Meilleur score F1\n",
        "print(f\"LightGBM - Best Params: {best_lgbm_params}, Best F1-Score: {best_lgbm_score:.4f}\")\n"
      ]
    },
    {
      "cell_type": "markdown",
      "metadata": {},
      "source": [
        "**Modèle de Regression Logistique**"
      ]
    },
    {
      "cell_type": "code",
      "execution_count": 46,
      "metadata": {},
      "outputs": [],
      "source": [
        "# Définir le modèle\n",
        "log_reg = LogisticRegression(max_iter=200, class_weight={0: 1, 1: 10}, solver='liblinear', random_state=seed)\n",
        "\n",
        "# Définir la grille des hyperparamètres\n",
        "param_grid_log = {\n",
        "    'C': [0.01, 0.1, 1, 10, 100], # Inverse de la force de régularisation\n",
        "    'penalty': ['l1', 'l2'] # Norme de pénalisation\n",
        "}\n",
        "\n",
        "# GridSearch avec Cross-Validation\n",
        "grid_log = GridSearchCV(estimator=log_reg\n",
        "                        , param_grid=param_grid_log\n",
        "                        , scoring='f1'\n",
        "                        , cv=5\n",
        "                        , n_jobs=-1)"
      ]
    },
    {
      "cell_type": "code",
      "execution_count": 47,
      "metadata": {},
      "outputs": [
        {
          "name": "stderr",
          "output_type": "stream",
          "text": [
            "2025/01/07 08:27:09 INFO mlflow.utils.autologging_utils: Created MLflow autologging run with ID 'cb898772ebcd4e6c8ff9a4fae305adcb', which will track hyperparameters, performance metrics, model artifacts, and lineage information for the current sklearn workflow\n",
            "2025/01/07 08:32:42 INFO mlflow.sklearn.utils: Logging the 5 best runs, 5 runs will be omitted.\n"
          ]
        },
        {
          "name": "stdout",
          "output_type": "stream",
          "text": [
            "Régression Logistique - Best Params: {'C': 100, 'penalty': 'l1'}, Best F1-Score: 0.2613\n"
          ]
        }
      ],
      "source": [
        "# Entraînement\n",
        "grid_log.fit(X_train, y_train)\n",
        "\n",
        "# Résultats\n",
        "best_log_params = grid_log.best_params_\n",
        "best_log_score = grid_log.best_score_\n",
        "print(f\"Régression Logistique - Best Params: {best_log_params}, Best F1-Score: {best_log_score:.4f}\")\n"
      ]
    },
    {
      "cell_type": "markdown",
      "metadata": {},
      "source": [
        "**Le RandomForest**"
      ]
    },
    {
      "cell_type": "code",
      "execution_count": 48,
      "metadata": {},
      "outputs": [],
      "source": [
        "# Définition du modèle et des hyperparamètres\n",
        "rf = RandomForestClassifier(class_weight={0: 1, 1: 10}, random_state=seed)\n",
        "\n",
        "param_grid_rf = {\n",
        "    'n_estimators': [100, 200, 300],\n",
        "    'max_depth': [10, 15, 20],\n",
        "    'min_samples_split': [2, 5, 10],\n",
        "    'min_samples_leaf': [1, 2, 4]\n",
        "}\n",
        "\n",
        "# GridSearch avec Cross-Validation\n",
        "grid_rf = GridSearchCV(estimator=rf\n",
        "                       , param_grid=param_grid_rf\n",
        "                       , scoring='f1'\n",
        "                       , cv=5\n",
        "                       , n_jobs=-1)"
      ]
    },
    {
      "cell_type": "code",
      "execution_count": 49,
      "metadata": {},
      "outputs": [
        {
          "name": "stderr",
          "output_type": "stream",
          "text": [
            "2025/01/07 08:38:27 INFO mlflow.utils.autologging_utils: Created MLflow autologging run with ID 'f172f369db1e4f83a3f5a57efc945539', which will track hyperparameters, performance metrics, model artifacts, and lineage information for the current sklearn workflow\n",
            "2025/01/07 22:00:34 INFO mlflow.sklearn.utils: Logging the 5 best runs, 76 runs will be omitted.\n"
          ]
        },
        {
          "name": "stdout",
          "output_type": "stream",
          "text": [
            "Random Forest - Best Params: {'max_depth': 10, 'min_samples_leaf': 1, 'min_samples_split': 5, 'n_estimators': 300}, Best F1-Score: 0.2749\n"
          ]
        }
      ],
      "source": [
        "# Entraînement du modèle\n",
        "grid_rf.fit(X_train, y_train)\n",
        "\n",
        "# Résultats\n",
        "best_rf_params = grid_rf.best_params_\n",
        "best_rf_score = grid_rf.best_score_\n",
        "print(f\"Random Forest - Best Params: {best_rf_params}, Best F1-Score: {best_rf_score:.4f}\")\n"
      ]
    },
    {
      "cell_type": "code",
      "execution_count": null,
      "metadata": {},
      "outputs": [],
      "source": []
    },
    {
      "cell_type": "markdown",
      "metadata": {},
      "source": []
    },
    {
      "cell_type": "code",
      "execution_count": 54,
      "metadata": {},
      "outputs": [
        {
          "name": "stderr",
          "output_type": "stream",
          "text": [
            "2025/01/07 23:36:04 INFO mlflow.utils.autologging_utils: Created MLflow autologging run with ID 'a7906f2884944b6190a06e81365b2923', which will track hyperparameters, performance metrics, model artifacts, and lineage information for the current lightgbm workflow\n"
          ]
        },
        {
          "name": "stdout",
          "output_type": "stream",
          "text": [
            "[LightGBM] [Warning] Found whitespace in feature_names, replace with underlines\n",
            "[LightGBM] [Info] Number of positive: 15214, number of negative: 180605\n",
            "[LightGBM] [Info] Auto-choosing col-wise multi-threading, the overhead of testing was 0.016907 seconds.\n",
            "You can set `force_col_wise=true` to remove the overhead.\n",
            "[LightGBM] [Info] Total Bins 2308\n",
            "[LightGBM] [Info] Number of data points in the train set: 195819, number of used features: 13\n",
            "[LightGBM] [Info] [binary:BoostFromScore]: pavg=0.457227 -> initscore=-0.171511\n",
            "[LightGBM] [Info] Start training from score -0.171511\n"
          ]
        },
        {
          "data": {
            "text/html": [
              "<style>#sk-container-id-9 {\n",
              "  /* Definition of color scheme common for light and dark mode */\n",
              "  --sklearn-color-text: black;\n",
              "  --sklearn-color-line: gray;\n",
              "  /* Definition of color scheme for unfitted estimators */\n",
              "  --sklearn-color-unfitted-level-0: #fff5e6;\n",
              "  --sklearn-color-unfitted-level-1: #f6e4d2;\n",
              "  --sklearn-color-unfitted-level-2: #ffe0b3;\n",
              "  --sklearn-color-unfitted-level-3: chocolate;\n",
              "  /* Definition of color scheme for fitted estimators */\n",
              "  --sklearn-color-fitted-level-0: #f0f8ff;\n",
              "  --sklearn-color-fitted-level-1: #d4ebff;\n",
              "  --sklearn-color-fitted-level-2: #b3dbfd;\n",
              "  --sklearn-color-fitted-level-3: cornflowerblue;\n",
              "\n",
              "  /* Specific color for light theme */\n",
              "  --sklearn-color-text-on-default-background: var(--sg-text-color, var(--theme-code-foreground, var(--jp-content-font-color1, black)));\n",
              "  --sklearn-color-background: var(--sg-background-color, var(--theme-background, var(--jp-layout-color0, white)));\n",
              "  --sklearn-color-border-box: var(--sg-text-color, var(--theme-code-foreground, var(--jp-content-font-color1, black)));\n",
              "  --sklearn-color-icon: #696969;\n",
              "\n",
              "  @media (prefers-color-scheme: dark) {\n",
              "    /* Redefinition of color scheme for dark theme */\n",
              "    --sklearn-color-text-on-default-background: var(--sg-text-color, var(--theme-code-foreground, var(--jp-content-font-color1, white)));\n",
              "    --sklearn-color-background: var(--sg-background-color, var(--theme-background, var(--jp-layout-color0, #111)));\n",
              "    --sklearn-color-border-box: var(--sg-text-color, var(--theme-code-foreground, var(--jp-content-font-color1, white)));\n",
              "    --sklearn-color-icon: #878787;\n",
              "  }\n",
              "}\n",
              "\n",
              "#sk-container-id-9 {\n",
              "  color: var(--sklearn-color-text);\n",
              "}\n",
              "\n",
              "#sk-container-id-9 pre {\n",
              "  padding: 0;\n",
              "}\n",
              "\n",
              "#sk-container-id-9 input.sk-hidden--visually {\n",
              "  border: 0;\n",
              "  clip: rect(1px 1px 1px 1px);\n",
              "  clip: rect(1px, 1px, 1px, 1px);\n",
              "  height: 1px;\n",
              "  margin: -1px;\n",
              "  overflow: hidden;\n",
              "  padding: 0;\n",
              "  position: absolute;\n",
              "  width: 1px;\n",
              "}\n",
              "\n",
              "#sk-container-id-9 div.sk-dashed-wrapped {\n",
              "  border: 1px dashed var(--sklearn-color-line);\n",
              "  margin: 0 0.4em 0.5em 0.4em;\n",
              "  box-sizing: border-box;\n",
              "  padding-bottom: 0.4em;\n",
              "  background-color: var(--sklearn-color-background);\n",
              "}\n",
              "\n",
              "#sk-container-id-9 div.sk-container {\n",
              "  /* jupyter's `normalize.less` sets `[hidden] { display: none; }`\n",
              "     but bootstrap.min.css set `[hidden] { display: none !important; }`\n",
              "     so we also need the `!important` here to be able to override the\n",
              "     default hidden behavior on the sphinx rendered scikit-learn.org.\n",
              "     See: https://github.com/scikit-learn/scikit-learn/issues/21755 */\n",
              "  display: inline-block !important;\n",
              "  position: relative;\n",
              "}\n",
              "\n",
              "#sk-container-id-9 div.sk-text-repr-fallback {\n",
              "  display: none;\n",
              "}\n",
              "\n",
              "div.sk-parallel-item,\n",
              "div.sk-serial,\n",
              "div.sk-item {\n",
              "  /* draw centered vertical line to link estimators */\n",
              "  background-image: linear-gradient(var(--sklearn-color-text-on-default-background), var(--sklearn-color-text-on-default-background));\n",
              "  background-size: 2px 100%;\n",
              "  background-repeat: no-repeat;\n",
              "  background-position: center center;\n",
              "}\n",
              "\n",
              "/* Parallel-specific style estimator block */\n",
              "\n",
              "#sk-container-id-9 div.sk-parallel-item::after {\n",
              "  content: \"\";\n",
              "  width: 100%;\n",
              "  border-bottom: 2px solid var(--sklearn-color-text-on-default-background);\n",
              "  flex-grow: 1;\n",
              "}\n",
              "\n",
              "#sk-container-id-9 div.sk-parallel {\n",
              "  display: flex;\n",
              "  align-items: stretch;\n",
              "  justify-content: center;\n",
              "  background-color: var(--sklearn-color-background);\n",
              "  position: relative;\n",
              "}\n",
              "\n",
              "#sk-container-id-9 div.sk-parallel-item {\n",
              "  display: flex;\n",
              "  flex-direction: column;\n",
              "}\n",
              "\n",
              "#sk-container-id-9 div.sk-parallel-item:first-child::after {\n",
              "  align-self: flex-end;\n",
              "  width: 50%;\n",
              "}\n",
              "\n",
              "#sk-container-id-9 div.sk-parallel-item:last-child::after {\n",
              "  align-self: flex-start;\n",
              "  width: 50%;\n",
              "}\n",
              "\n",
              "#sk-container-id-9 div.sk-parallel-item:only-child::after {\n",
              "  width: 0;\n",
              "}\n",
              "\n",
              "/* Serial-specific style estimator block */\n",
              "\n",
              "#sk-container-id-9 div.sk-serial {\n",
              "  display: flex;\n",
              "  flex-direction: column;\n",
              "  align-items: center;\n",
              "  background-color: var(--sklearn-color-background);\n",
              "  padding-right: 1em;\n",
              "  padding-left: 1em;\n",
              "}\n",
              "\n",
              "\n",
              "/* Toggleable style: style used for estimator/Pipeline/ColumnTransformer box that is\n",
              "clickable and can be expanded/collapsed.\n",
              "- Pipeline and ColumnTransformer use this feature and define the default style\n",
              "- Estimators will overwrite some part of the style using the `sk-estimator` class\n",
              "*/\n",
              "\n",
              "/* Pipeline and ColumnTransformer style (default) */\n",
              "\n",
              "#sk-container-id-9 div.sk-toggleable {\n",
              "  /* Default theme specific background. It is overwritten whether we have a\n",
              "  specific estimator or a Pipeline/ColumnTransformer */\n",
              "  background-color: var(--sklearn-color-background);\n",
              "}\n",
              "\n",
              "/* Toggleable label */\n",
              "#sk-container-id-9 label.sk-toggleable__label {\n",
              "  cursor: pointer;\n",
              "  display: block;\n",
              "  width: 100%;\n",
              "  margin-bottom: 0;\n",
              "  padding: 0.5em;\n",
              "  box-sizing: border-box;\n",
              "  text-align: center;\n",
              "}\n",
              "\n",
              "#sk-container-id-9 label.sk-toggleable__label-arrow:before {\n",
              "  /* Arrow on the left of the label */\n",
              "  content: \"▸\";\n",
              "  float: left;\n",
              "  margin-right: 0.25em;\n",
              "  color: var(--sklearn-color-icon);\n",
              "}\n",
              "\n",
              "#sk-container-id-9 label.sk-toggleable__label-arrow:hover:before {\n",
              "  color: var(--sklearn-color-text);\n",
              "}\n",
              "\n",
              "/* Toggleable content - dropdown */\n",
              "\n",
              "#sk-container-id-9 div.sk-toggleable__content {\n",
              "  max-height: 0;\n",
              "  max-width: 0;\n",
              "  overflow: hidden;\n",
              "  text-align: left;\n",
              "  /* unfitted */\n",
              "  background-color: var(--sklearn-color-unfitted-level-0);\n",
              "}\n",
              "\n",
              "#sk-container-id-9 div.sk-toggleable__content.fitted {\n",
              "  /* fitted */\n",
              "  background-color: var(--sklearn-color-fitted-level-0);\n",
              "}\n",
              "\n",
              "#sk-container-id-9 div.sk-toggleable__content pre {\n",
              "  margin: 0.2em;\n",
              "  border-radius: 0.25em;\n",
              "  color: var(--sklearn-color-text);\n",
              "  /* unfitted */\n",
              "  background-color: var(--sklearn-color-unfitted-level-0);\n",
              "}\n",
              "\n",
              "#sk-container-id-9 div.sk-toggleable__content.fitted pre {\n",
              "  /* unfitted */\n",
              "  background-color: var(--sklearn-color-fitted-level-0);\n",
              "}\n",
              "\n",
              "#sk-container-id-9 input.sk-toggleable__control:checked~div.sk-toggleable__content {\n",
              "  /* Expand drop-down */\n",
              "  max-height: 200px;\n",
              "  max-width: 100%;\n",
              "  overflow: auto;\n",
              "}\n",
              "\n",
              "#sk-container-id-9 input.sk-toggleable__control:checked~label.sk-toggleable__label-arrow:before {\n",
              "  content: \"▾\";\n",
              "}\n",
              "\n",
              "/* Pipeline/ColumnTransformer-specific style */\n",
              "\n",
              "#sk-container-id-9 div.sk-label input.sk-toggleable__control:checked~label.sk-toggleable__label {\n",
              "  color: var(--sklearn-color-text);\n",
              "  background-color: var(--sklearn-color-unfitted-level-2);\n",
              "}\n",
              "\n",
              "#sk-container-id-9 div.sk-label.fitted input.sk-toggleable__control:checked~label.sk-toggleable__label {\n",
              "  background-color: var(--sklearn-color-fitted-level-2);\n",
              "}\n",
              "\n",
              "/* Estimator-specific style */\n",
              "\n",
              "/* Colorize estimator box */\n",
              "#sk-container-id-9 div.sk-estimator input.sk-toggleable__control:checked~label.sk-toggleable__label {\n",
              "  /* unfitted */\n",
              "  background-color: var(--sklearn-color-unfitted-level-2);\n",
              "}\n",
              "\n",
              "#sk-container-id-9 div.sk-estimator.fitted input.sk-toggleable__control:checked~label.sk-toggleable__label {\n",
              "  /* fitted */\n",
              "  background-color: var(--sklearn-color-fitted-level-2);\n",
              "}\n",
              "\n",
              "#sk-container-id-9 div.sk-label label.sk-toggleable__label,\n",
              "#sk-container-id-9 div.sk-label label {\n",
              "  /* The background is the default theme color */\n",
              "  color: var(--sklearn-color-text-on-default-background);\n",
              "}\n",
              "\n",
              "/* On hover, darken the color of the background */\n",
              "#sk-container-id-9 div.sk-label:hover label.sk-toggleable__label {\n",
              "  color: var(--sklearn-color-text);\n",
              "  background-color: var(--sklearn-color-unfitted-level-2);\n",
              "}\n",
              "\n",
              "/* Label box, darken color on hover, fitted */\n",
              "#sk-container-id-9 div.sk-label.fitted:hover label.sk-toggleable__label.fitted {\n",
              "  color: var(--sklearn-color-text);\n",
              "  background-color: var(--sklearn-color-fitted-level-2);\n",
              "}\n",
              "\n",
              "/* Estimator label */\n",
              "\n",
              "#sk-container-id-9 div.sk-label label {\n",
              "  font-family: monospace;\n",
              "  font-weight: bold;\n",
              "  display: inline-block;\n",
              "  line-height: 1.2em;\n",
              "}\n",
              "\n",
              "#sk-container-id-9 div.sk-label-container {\n",
              "  text-align: center;\n",
              "}\n",
              "\n",
              "/* Estimator-specific */\n",
              "#sk-container-id-9 div.sk-estimator {\n",
              "  font-family: monospace;\n",
              "  border: 1px dotted var(--sklearn-color-border-box);\n",
              "  border-radius: 0.25em;\n",
              "  box-sizing: border-box;\n",
              "  margin-bottom: 0.5em;\n",
              "  /* unfitted */\n",
              "  background-color: var(--sklearn-color-unfitted-level-0);\n",
              "}\n",
              "\n",
              "#sk-container-id-9 div.sk-estimator.fitted {\n",
              "  /* fitted */\n",
              "  background-color: var(--sklearn-color-fitted-level-0);\n",
              "}\n",
              "\n",
              "/* on hover */\n",
              "#sk-container-id-9 div.sk-estimator:hover {\n",
              "  /* unfitted */\n",
              "  background-color: var(--sklearn-color-unfitted-level-2);\n",
              "}\n",
              "\n",
              "#sk-container-id-9 div.sk-estimator.fitted:hover {\n",
              "  /* fitted */\n",
              "  background-color: var(--sklearn-color-fitted-level-2);\n",
              "}\n",
              "\n",
              "/* Specification for estimator info (e.g. \"i\" and \"?\") */\n",
              "\n",
              "/* Common style for \"i\" and \"?\" */\n",
              "\n",
              ".sk-estimator-doc-link,\n",
              "a:link.sk-estimator-doc-link,\n",
              "a:visited.sk-estimator-doc-link {\n",
              "  float: right;\n",
              "  font-size: smaller;\n",
              "  line-height: 1em;\n",
              "  font-family: monospace;\n",
              "  background-color: var(--sklearn-color-background);\n",
              "  border-radius: 1em;\n",
              "  height: 1em;\n",
              "  width: 1em;\n",
              "  text-decoration: none !important;\n",
              "  margin-left: 1ex;\n",
              "  /* unfitted */\n",
              "  border: var(--sklearn-color-unfitted-level-1) 1pt solid;\n",
              "  color: var(--sklearn-color-unfitted-level-1);\n",
              "}\n",
              "\n",
              ".sk-estimator-doc-link.fitted,\n",
              "a:link.sk-estimator-doc-link.fitted,\n",
              "a:visited.sk-estimator-doc-link.fitted {\n",
              "  /* fitted */\n",
              "  border: var(--sklearn-color-fitted-level-1) 1pt solid;\n",
              "  color: var(--sklearn-color-fitted-level-1);\n",
              "}\n",
              "\n",
              "/* On hover */\n",
              "div.sk-estimator:hover .sk-estimator-doc-link:hover,\n",
              ".sk-estimator-doc-link:hover,\n",
              "div.sk-label-container:hover .sk-estimator-doc-link:hover,\n",
              ".sk-estimator-doc-link:hover {\n",
              "  /* unfitted */\n",
              "  background-color: var(--sklearn-color-unfitted-level-3);\n",
              "  color: var(--sklearn-color-background);\n",
              "  text-decoration: none;\n",
              "}\n",
              "\n",
              "div.sk-estimator.fitted:hover .sk-estimator-doc-link.fitted:hover,\n",
              ".sk-estimator-doc-link.fitted:hover,\n",
              "div.sk-label-container:hover .sk-estimator-doc-link.fitted:hover,\n",
              ".sk-estimator-doc-link.fitted:hover {\n",
              "  /* fitted */\n",
              "  background-color: var(--sklearn-color-fitted-level-3);\n",
              "  color: var(--sklearn-color-background);\n",
              "  text-decoration: none;\n",
              "}\n",
              "\n",
              "/* Span, style for the box shown on hovering the info icon */\n",
              ".sk-estimator-doc-link span {\n",
              "  display: none;\n",
              "  z-index: 9999;\n",
              "  position: relative;\n",
              "  font-weight: normal;\n",
              "  right: .2ex;\n",
              "  padding: .5ex;\n",
              "  margin: .5ex;\n",
              "  width: min-content;\n",
              "  min-width: 20ex;\n",
              "  max-width: 50ex;\n",
              "  color: var(--sklearn-color-text);\n",
              "  box-shadow: 2pt 2pt 4pt #999;\n",
              "  /* unfitted */\n",
              "  background: var(--sklearn-color-unfitted-level-0);\n",
              "  border: .5pt solid var(--sklearn-color-unfitted-level-3);\n",
              "}\n",
              "\n",
              ".sk-estimator-doc-link.fitted span {\n",
              "  /* fitted */\n",
              "  background: var(--sklearn-color-fitted-level-0);\n",
              "  border: var(--sklearn-color-fitted-level-3);\n",
              "}\n",
              "\n",
              ".sk-estimator-doc-link:hover span {\n",
              "  display: block;\n",
              "}\n",
              "\n",
              "/* \"?\"-specific style due to the `<a>` HTML tag */\n",
              "\n",
              "#sk-container-id-9 a.estimator_doc_link {\n",
              "  float: right;\n",
              "  font-size: 1rem;\n",
              "  line-height: 1em;\n",
              "  font-family: monospace;\n",
              "  background-color: var(--sklearn-color-background);\n",
              "  border-radius: 1rem;\n",
              "  height: 1rem;\n",
              "  width: 1rem;\n",
              "  text-decoration: none;\n",
              "  /* unfitted */\n",
              "  color: var(--sklearn-color-unfitted-level-1);\n",
              "  border: var(--sklearn-color-unfitted-level-1) 1pt solid;\n",
              "}\n",
              "\n",
              "#sk-container-id-9 a.estimator_doc_link.fitted {\n",
              "  /* fitted */\n",
              "  border: var(--sklearn-color-fitted-level-1) 1pt solid;\n",
              "  color: var(--sklearn-color-fitted-level-1);\n",
              "}\n",
              "\n",
              "/* On hover */\n",
              "#sk-container-id-9 a.estimator_doc_link:hover {\n",
              "  /* unfitted */\n",
              "  background-color: var(--sklearn-color-unfitted-level-3);\n",
              "  color: var(--sklearn-color-background);\n",
              "  text-decoration: none;\n",
              "}\n",
              "\n",
              "#sk-container-id-9 a.estimator_doc_link.fitted:hover {\n",
              "  /* fitted */\n",
              "  background-color: var(--sklearn-color-fitted-level-3);\n",
              "}\n",
              "</style><div id=\"sk-container-id-9\" class=\"sk-top-container\"><div class=\"sk-text-repr-fallback\"><pre>LGBMClassifier(class_weight={0: 1, 1: 10}, max_depth=15, n_estimators=200,\n",
              "               num_leaves=30, random_state=123)</pre><b>In a Jupyter environment, please rerun this cell to show the HTML representation or trust the notebook. <br />On GitHub, the HTML representation is unable to render, please try loading this page with nbviewer.org.</b></div><div class=\"sk-container\" hidden><div class=\"sk-item\"><div class=\"sk-estimator fitted sk-toggleable\"><input class=\"sk-toggleable__control sk-hidden--visually\" id=\"sk-estimator-id-15\" type=\"checkbox\" checked><label for=\"sk-estimator-id-15\" class=\"sk-toggleable__label fitted sk-toggleable__label-arrow fitted\">&nbsp;LGBMClassifier<span class=\"sk-estimator-doc-link fitted\">i<span>Fitted</span></span></label><div class=\"sk-toggleable__content fitted\"><pre>LGBMClassifier(class_weight={0: 1, 1: 10}, max_depth=15, n_estimators=200,\n",
              "               num_leaves=30, random_state=123)</pre></div> </div></div></div></div>"
            ],
            "text/plain": [
              "LGBMClassifier(class_weight={0: 1, 1: 10}, max_depth=15, n_estimators=200,\n",
              "               num_leaves=30, random_state=123)"
            ]
          },
          "execution_count": 54,
          "metadata": {},
          "output_type": "execute_result"
        }
      ],
      "source": [
        "model = lgb.LGBMClassifier(\n",
        "    class_weight={0: 1, 1: 10}, # Poids des classes \n",
        "    learning_rate = 0.1,\n",
        "    max_depth = 15, \n",
        "    n_estimators= 200, \n",
        "    num_leaves=30,\n",
        "    random_state=seed\n",
        ")\n",
        "# Entraîner le modèle\n",
        "model.fit(X_train, y_train)"
      ]
    },
    {
      "cell_type": "code",
      "execution_count": 55,
      "metadata": {
        "colab": {
          "base_uri": "https://localhost:8080/"
        },
        "id": "hDGGvRHD62oB",
        "outputId": "25d7ebe4-34d3-4177-dcc6-899d66b51800"
      },
      "outputs": [],
      "source": [
        "# Prédictions\n",
        "y_pred = model.predict(X_test)\n",
        "y_pred_proba = model.predict_proba(X_test)[:, 1]  # Probabilité pour la classe 1"
      ]
    },
    {
      "cell_type": "code",
      "execution_count": 73,
      "metadata": {},
      "outputs": [
        {
          "data": {
            "text/html": [
              "<div>\n",
              "<style scoped>\n",
              "    .dataframe tbody tr th:only-of-type {\n",
              "        vertical-align: middle;\n",
              "    }\n",
              "\n",
              "    .dataframe tbody tr th {\n",
              "        vertical-align: top;\n",
              "    }\n",
              "\n",
              "    .dataframe thead th {\n",
              "        text-align: right;\n",
              "    }\n",
              "</style>\n",
              "<table border=\"1\" class=\"dataframe\">\n",
              "  <thead>\n",
              "    <tr style=\"text-align: right;\">\n",
              "      <th></th>\n",
              "      <th>SK_ID_CURR</th>\n",
              "      <th>EXT_SOURCE_3</th>\n",
              "      <th>EXT_SOURCE_2</th>\n",
              "      <th>DAYS_BIRTH</th>\n",
              "      <th>bureau_DAYS_CREDIT_max</th>\n",
              "      <th>bureau_DAYS_CREDIT_min</th>\n",
              "      <th>bureau_DAYS_CREDIT_UPDATE_mean</th>\n",
              "      <th>bureau_DAYS_CREDIT_mean</th>\n",
              "      <th>bureau_CREDIT_ACTIVE_Closed_mean</th>\n",
              "      <th>bureau_CREDIT_ACTIVE_Active_mean</th>\n",
              "      <th>NAME_CONTRACT_TYPE_Revolving loans</th>\n",
              "      <th>CODE_GENDER_M</th>\n",
              "      <th>CODE_GENDER_XNA</th>\n",
              "      <th>FLAG_OWN_CAR_Y</th>\n",
              "    </tr>\n",
              "  </thead>\n",
              "  <tbody>\n",
              "    <tr>\n",
              "      <th>191642</th>\n",
              "      <td>322210</td>\n",
              "      <td>0.832599</td>\n",
              "      <td>0.737864</td>\n",
              "      <td>0.122682</td>\n",
              "      <td>0.841205</td>\n",
              "      <td>0.140411</td>\n",
              "      <td>0.967114</td>\n",
              "      <td>0.429110</td>\n",
              "      <td>0.888672</td>\n",
              "      <td>0.000000</td>\n",
              "      <td>False</td>\n",
              "      <td>False</td>\n",
              "      <td>False</td>\n",
              "      <td>False</td>\n",
              "    </tr>\n",
              "    <tr>\n",
              "      <th>183535</th>\n",
              "      <td>312732</td>\n",
              "      <td>0.363931</td>\n",
              "      <td>0.740148</td>\n",
              "      <td>0.080171</td>\n",
              "      <td>0.981520</td>\n",
              "      <td>0.748288</td>\n",
              "      <td>0.996695</td>\n",
              "      <td>0.901712</td>\n",
              "      <td>0.500000</td>\n",
              "      <td>0.500000</td>\n",
              "      <td>False</td>\n",
              "      <td>False</td>\n",
              "      <td>False</td>\n",
              "      <td>False</td>\n",
              "    </tr>\n",
              "    <tr>\n",
              "      <th>229083</th>\n",
              "      <td>365338</td>\n",
              "      <td>0.488800</td>\n",
              "      <td>0.582524</td>\n",
              "      <td>0.078916</td>\n",
              "      <td>0.964408</td>\n",
              "      <td>0.005479</td>\n",
              "      <td>0.974178</td>\n",
              "      <td>0.517466</td>\n",
              "      <td>0.714355</td>\n",
              "      <td>0.285645</td>\n",
              "      <td>False</td>\n",
              "      <td>False</td>\n",
              "      <td>False</td>\n",
              "      <td>False</td>\n",
              "    </tr>\n",
              "    <tr>\n",
              "      <th>161049</th>\n",
              "      <td>286694</td>\n",
              "      <td>0.835871</td>\n",
              "      <td>0.854940</td>\n",
              "      <td>0.650442</td>\n",
              "      <td>0.431211</td>\n",
              "      <td>0.151370</td>\n",
              "      <td>0.988843</td>\n",
              "      <td>0.291096</td>\n",
              "      <td>1.000000</td>\n",
              "      <td>0.000000</td>\n",
              "      <td>False</td>\n",
              "      <td>True</td>\n",
              "      <td>False</td>\n",
              "      <td>False</td>\n",
              "    </tr>\n",
              "    <tr>\n",
              "      <th>88672</th>\n",
              "      <td>202954</td>\n",
              "      <td>0.576863</td>\n",
              "      <td>0.681324</td>\n",
              "      <td>0.840685</td>\n",
              "      <td>0.549623</td>\n",
              "      <td>0.128082</td>\n",
              "      <td>0.982113</td>\n",
              "      <td>0.339041</td>\n",
              "      <td>1.000000</td>\n",
              "      <td>0.000000</td>\n",
              "      <td>False</td>\n",
              "      <td>False</td>\n",
              "      <td>False</td>\n",
              "      <td>True</td>\n",
              "    </tr>\n",
              "    <tr>\n",
              "      <th>...</th>\n",
              "      <td>...</td>\n",
              "      <td>...</td>\n",
              "      <td>...</td>\n",
              "      <td>...</td>\n",
              "      <td>...</td>\n",
              "      <td>...</td>\n",
              "      <td>...</td>\n",
              "      <td>...</td>\n",
              "      <td>...</td>\n",
              "      <td>...</td>\n",
              "      <td>...</td>\n",
              "      <td>...</td>\n",
              "      <td>...</td>\n",
              "      <td>...</td>\n",
              "    </tr>\n",
              "    <tr>\n",
              "      <th>118750</th>\n",
              "      <td>237705</td>\n",
              "      <td>0.860954</td>\n",
              "      <td>0.698458</td>\n",
              "      <td>0.579515</td>\n",
              "      <td>0.731691</td>\n",
              "      <td>0.236301</td>\n",
              "      <td>0.982889</td>\n",
              "      <td>0.459589</td>\n",
              "      <td>0.833496</td>\n",
              "      <td>0.166626</td>\n",
              "      <td>False</td>\n",
              "      <td>False</td>\n",
              "      <td>False</td>\n",
              "      <td>False</td>\n",
              "    </tr>\n",
              "    <tr>\n",
              "      <th>83242</th>\n",
              "      <td>196548</td>\n",
              "      <td>0.534876</td>\n",
              "      <td>0.881211</td>\n",
              "      <td>0.753609</td>\n",
              "      <td>0.956879</td>\n",
              "      <td>0.616781</td>\n",
              "      <td>0.997260</td>\n",
              "      <td>0.833647</td>\n",
              "      <td>0.600098</td>\n",
              "      <td>0.399902</td>\n",
              "      <td>False</td>\n",
              "      <td>False</td>\n",
              "      <td>False</td>\n",
              "      <td>False</td>\n",
              "    </tr>\n",
              "    <tr>\n",
              "      <th>238898</th>\n",
              "      <td>376730</td>\n",
              "      <td>0.492889</td>\n",
              "      <td>0.545973</td>\n",
              "      <td>0.362682</td>\n",
              "      <td>0.934976</td>\n",
              "      <td>0.592466</td>\n",
              "      <td>0.989702</td>\n",
              "      <td>0.758390</td>\n",
              "      <td>0.250000</td>\n",
              "      <td>0.750000</td>\n",
              "      <td>False</td>\n",
              "      <td>False</td>\n",
              "      <td>False</td>\n",
              "      <td>False</td>\n",
              "    </tr>\n",
              "    <tr>\n",
              "      <th>239959</th>\n",
              "      <td>377876</td>\n",
              "      <td>0.803154</td>\n",
              "      <td>0.366932</td>\n",
              "      <td>0.245649</td>\n",
              "      <td>0.912389</td>\n",
              "      <td>0.115068</td>\n",
              "      <td>0.983175</td>\n",
              "      <td>0.494521</td>\n",
              "      <td>0.500000</td>\n",
              "      <td>0.500000</td>\n",
              "      <td>False</td>\n",
              "      <td>False</td>\n",
              "      <td>False</td>\n",
              "      <td>False</td>\n",
              "    </tr>\n",
              "    <tr>\n",
              "      <th>299585</th>\n",
              "      <td>447070</td>\n",
              "      <td>0.439997</td>\n",
              "      <td>0.737864</td>\n",
              "      <td>0.307789</td>\n",
              "      <td>0.961670</td>\n",
              "      <td>0.962329</td>\n",
              "      <td>0.998759</td>\n",
              "      <td>0.962329</td>\n",
              "      <td>0.000000</td>\n",
              "      <td>1.000000</td>\n",
              "      <td>False</td>\n",
              "      <td>True</td>\n",
              "      <td>False</td>\n",
              "      <td>False</td>\n",
              "    </tr>\n",
              "  </tbody>\n",
              "</table>\n",
              "<p>48955 rows × 14 columns</p>\n",
              "</div>"
            ],
            "text/plain": [
              "        SK_ID_CURR  EXT_SOURCE_3  EXT_SOURCE_2  DAYS_BIRTH   \n",
              "191642      322210      0.832599      0.737864    0.122682  \\\n",
              "183535      312732      0.363931      0.740148    0.080171   \n",
              "229083      365338      0.488800      0.582524    0.078916   \n",
              "161049      286694      0.835871      0.854940    0.650442   \n",
              "88672       202954      0.576863      0.681324    0.840685   \n",
              "...            ...           ...           ...         ...   \n",
              "118750      237705      0.860954      0.698458    0.579515   \n",
              "83242       196548      0.534876      0.881211    0.753609   \n",
              "238898      376730      0.492889      0.545973    0.362682   \n",
              "239959      377876      0.803154      0.366932    0.245649   \n",
              "299585      447070      0.439997      0.737864    0.307789   \n",
              "\n",
              "        bureau_DAYS_CREDIT_max  bureau_DAYS_CREDIT_min   \n",
              "191642                0.841205                0.140411  \\\n",
              "183535                0.981520                0.748288   \n",
              "229083                0.964408                0.005479   \n",
              "161049                0.431211                0.151370   \n",
              "88672                 0.549623                0.128082   \n",
              "...                        ...                     ...   \n",
              "118750                0.731691                0.236301   \n",
              "83242                 0.956879                0.616781   \n",
              "238898                0.934976                0.592466   \n",
              "239959                0.912389                0.115068   \n",
              "299585                0.961670                0.962329   \n",
              "\n",
              "        bureau_DAYS_CREDIT_UPDATE_mean  bureau_DAYS_CREDIT_mean   \n",
              "191642                        0.967114                 0.429110  \\\n",
              "183535                        0.996695                 0.901712   \n",
              "229083                        0.974178                 0.517466   \n",
              "161049                        0.988843                 0.291096   \n",
              "88672                         0.982113                 0.339041   \n",
              "...                                ...                      ...   \n",
              "118750                        0.982889                 0.459589   \n",
              "83242                         0.997260                 0.833647   \n",
              "238898                        0.989702                 0.758390   \n",
              "239959                        0.983175                 0.494521   \n",
              "299585                        0.998759                 0.962329   \n",
              "\n",
              "        bureau_CREDIT_ACTIVE_Closed_mean  bureau_CREDIT_ACTIVE_Active_mean   \n",
              "191642                          0.888672                          0.000000  \\\n",
              "183535                          0.500000                          0.500000   \n",
              "229083                          0.714355                          0.285645   \n",
              "161049                          1.000000                          0.000000   \n",
              "88672                           1.000000                          0.000000   \n",
              "...                                  ...                               ...   \n",
              "118750                          0.833496                          0.166626   \n",
              "83242                           0.600098                          0.399902   \n",
              "238898                          0.250000                          0.750000   \n",
              "239959                          0.500000                          0.500000   \n",
              "299585                          0.000000                          1.000000   \n",
              "\n",
              "        NAME_CONTRACT_TYPE_Revolving loans  CODE_GENDER_M  CODE_GENDER_XNA   \n",
              "191642                               False          False            False  \\\n",
              "183535                               False          False            False   \n",
              "229083                               False          False            False   \n",
              "161049                               False           True            False   \n",
              "88672                                False          False            False   \n",
              "...                                    ...            ...              ...   \n",
              "118750                               False          False            False   \n",
              "83242                                False          False            False   \n",
              "238898                               False          False            False   \n",
              "239959                               False          False            False   \n",
              "299585                               False           True            False   \n",
              "\n",
              "        FLAG_OWN_CAR_Y  \n",
              "191642           False  \n",
              "183535           False  \n",
              "229083           False  \n",
              "161049           False  \n",
              "88672             True  \n",
              "...                ...  \n",
              "118750           False  \n",
              "83242            False  \n",
              "238898           False  \n",
              "239959           False  \n",
              "299585           False  \n",
              "\n",
              "[48955 rows x 14 columns]"
            ]
          },
          "execution_count": 73,
          "metadata": {},
          "output_type": "execute_result"
        }
      ],
      "source": [
        "X_test"
      ]
    },
    {
      "cell_type": "markdown",
      "metadata": {
        "id": "s6eOP8j46ljB"
      },
      "source": [
        "**Evaluation du modèle**"
      ]
    },
    {
      "cell_type": "markdown",
      "metadata": {
        "id": "txq1KlLZ9bW4"
      },
      "source": [
        "**1. Classification report**"
      ]
    },
    {
      "cell_type": "code",
      "execution_count": 56,
      "metadata": {
        "colab": {
          "base_uri": "https://localhost:8080/"
        },
        "id": "qhhJ7yYj9aR_",
        "outputId": "3359d23d-10d4-4849-d32c-e4af8f76a77e"
      },
      "outputs": [
        {
          "name": "stdout",
          "output_type": "stream",
          "text": [
            "Classification Report :\n",
            "               precision    recall  f1-score   support\n",
            "\n",
            "           0       0.95      0.77      0.85     45152\n",
            "           1       0.17      0.57      0.26      3803\n",
            "\n",
            "    accuracy                           0.75     48955\n",
            "   macro avg       0.56      0.67      0.56     48955\n",
            "weighted avg       0.89      0.75      0.80     48955\n",
            "\n"
          ]
        }
      ],
      "source": [
        "# Classification report\n",
        "print(\"Classification Report :\\n\", classification_report(y_test, y_pred))"
      ]
    },
    {
      "cell_type": "markdown",
      "metadata": {
        "id": "3uLciUsq9Kwg"
      },
      "source": [
        "**2. Matrice de confusion**"
      ]
    },
    {
      "cell_type": "code",
      "execution_count": 57,
      "metadata": {
        "colab": {
          "base_uri": "https://localhost:8080/",
          "height": 472
        },
        "id": "jYEs6cnJ65n9",
        "outputId": "cccf76b2-589a-4b0a-faad-972f02173662"
      },
      "outputs": [
        {
          "data": {
            "image/png": "[encoded data removed]",
            "text/plain": [
              "<Figure size 640x480 with 2 Axes>"
            ]
          },
          "metadata": {},
          "output_type": "display_data"
        }
      ],
      "source": [
        "# Matrice de confusion\n",
        "conf_matrix = confusion_matrix(y_test, y_pred)\n",
        "sns.heatmap(conf_matrix, annot=True, fmt='d', cmap='Blues', xticklabels=[0, 1], yticklabels=[0, 1])\n",
        "plt.xlabel('Prédictions')\n",
        "plt.ylabel('Réel')\n",
        "plt.title('Matrice de confusion')\n",
        "plt.show();"
      ]
    },
    {
      "cell_type": "markdown",
      "metadata": {
        "id": "s0MLdxHn9kY0"
      },
      "source": [
        "**3. Courbe ROC et AUC**"
      ]
    },
    {
      "cell_type": "code",
      "execution_count": 58,
      "metadata": {
        "colab": {
          "base_uri": "https://localhost:8080/",
          "height": 472
        },
        "id": "WpGOR8kM69J5",
        "outputId": "5120f621-7cf5-4631-9164-dfc3b74ad062"
      },
      "outputs": [
        {
          "data": {
            "image/png": "[encoded data removed]",
            "text/plain": [
              "<Figure size 640x480 with 1 Axes>"
            ]
          },
          "metadata": {},
          "output_type": "display_data"
        }
      ],
      "source": [
        "# Courbe ROC et AUC\n",
        "fpr, tpr, thresholds = roc_curve(y_test, y_pred_proba)\n",
        "roc_auc = auc(fpr, tpr)\n",
        "plt.plot(fpr, tpr, color='blue', label=f\"AUC = {roc_auc:.2f}\")\n",
        "plt.plot([0, 1], [0, 1], color='red', linestyle='--')\n",
        "plt.xlabel(\"Taux de Faux Positifs (FPR)\")\n",
        "plt.ylabel(\"Taux de Vrais Positifs (TPR)\")\n",
        "plt.title(\"Courbe ROC\")\n",
        "plt.legend(loc=\"lower right\")\n",
        "plt.show();\n",
        "\n",
        "# UN AUC-ROC de 0.74 montre que les classes sont bien séparées"
      ]
    },
    {
      "cell_type": "markdown",
      "metadata": {
        "id": "RickuVsG92fg"
      },
      "source": [
        "**4. Courbe Précision-Rappel**"
      ]
    },
    {
      "cell_type": "code",
      "execution_count": 36,
      "metadata": {
        "colab": {
          "base_uri": "https://localhost:8080/",
          "height": 472
        },
        "id": "eZzI2aA67AxK",
        "outputId": "1aff63c2-1420-47e6-a53a-0be15bb5a197"
      },
      "outputs": [
        {
          "data": {
            "image/png": "[encoded data removed]",
            "text/plain": [
              "<Figure size 640x480 with 1 Axes>"
            ]
          },
          "metadata": {},
          "output_type": "display_data"
        }
      ],
      "source": [
        "# Courbe Précision-Rappel\n",
        "precision, recall, thresholds = precision_recall_curve(y_test, y_pred_proba)\n",
        "plt.plot(recall, precision, color='green')\n",
        "plt.xlabel(\"Rappel\")\n",
        "plt.ylabel(\"Précision\")\n",
        "plt.title(\"Courbe Précision-Rappel\")\n",
        "plt.show();"
      ]
    },
    {
      "cell_type": "markdown",
      "metadata": {
        "id": "dhaThXjM9-Xy"
      },
      "source": [
        "**5. Évaluation avec F2 et F3**"
      ]
    },
    {
      "cell_type": "code",
      "execution_count": 59,
      "metadata": {
        "colab": {
          "base_uri": "https://localhost:8080/"
        },
        "id": "fT6qTDQB6thn",
        "outputId": "751b4d4e-b13a-4030-e06f-8df01c4845aa"
      },
      "outputs": [
        {
          "name": "stdout",
          "output_type": "stream",
          "text": [
            "=== Scores supplémentaires ===\n",
            "F2-score : 0.3860\n",
            "F3-score : 0.4592\n"
          ]
        }
      ],
      "source": [
        "# %% Évaluation avec les métriques F2 et F3\n",
        "\n",
        "f2 = fbeta_score(y_test, y_pred, beta=2)  # F2-score\n",
        "f3 = fbeta_score(y_test, y_pred, beta=3)  # F3-score\n",
        "\n",
        "# Affichage des résultats\n",
        "print(\"=== Scores supplémentaires ===\")\n",
        "print(f\"F2-score : {f2:.4f}\")\n",
        "print(f\"F3-score : {f3:.4f}\")\n",
        "\n",
        "# F2-score : 0.3984\n",
        "# F3-score : 0.4945\n",
        "# le score F2 est plus élevé que le F1, ce qui signifie que\n",
        "# le modèle est plus performant pour la classe minoritaire\n"
      ]
    },
    {
      "cell_type": "markdown",
      "metadata": {
        "id": "0QySxKbhZBIw"
      },
      "source": [
        "**Optimisation des hyperparamètres**"
      ]
    },
    {
      "cell_type": "code",
      "execution_count": 60,
      "metadata": {
        "colab": {
          "base_uri": "https://localhost:8080/",
          "height": 490
        },
        "id": "Ygm4hKL-Y7Nc",
        "outputId": "ec44d561-8c9f-406c-da41-f4198539690b"
      },
      "outputs": [
        {
          "data": {
            "image/png": "[encoded data removed]",
            "text/plain": [
              "<Figure size 1000x600 with 1 Axes>"
            ]
          },
          "metadata": {},
          "output_type": "display_data"
        }
      ],
      "source": [
        "#  Récupérer les importances des features\n",
        "feature_importances = pd.DataFrame({'Feature': X_train.columns, 'Importance': model.feature_importances_}).sort_values(by='Importance', ascending=False)\n",
        "\n",
        "# # Affichage des 10 features les plus importantes\n",
        "plt.figure(figsize=(10, 6))\n",
        "plt.barh(feature_importances['Feature'][:10][::-1], feature_importances['Importance'][:10][::-1], color='skyblue')\n",
        "plt.xlabel(\"Importance\")\n",
        "plt.ylabel(\"Feature\")\n",
        "plt.title(\"Top 10 des features les plus importantes\")\n",
        "plt.show();\n"
      ]
    },
    {
      "cell_type": "markdown",
      "metadata": {
        "id": "1hSpAasRZYZf"
      },
      "source": [
        "#### **Réduction des features et réentraînement**"
      ]
    },
    {
      "cell_type": "code",
      "execution_count": 61,
      "metadata": {
        "colab": {
          "base_uri": "https://localhost:8080/"
        },
        "id": "djUPHqEDZqlD",
        "outputId": "90db8cd1-1319-4544-ac40-15709f7f2cc2"
      },
      "outputs": [
        {
          "name": "stderr",
          "output_type": "stream",
          "text": [
            "2025/01/07 23:39:56 INFO mlflow.utils.autologging_utils: Created MLflow autologging run with ID '079cf11b635344bbb6b2fd65076c8cde', which will track hyperparameters, performance metrics, model artifacts, and lineage information for the current lightgbm workflow\n"
          ]
        },
        {
          "name": "stdout",
          "output_type": "stream",
          "text": [
            "[LightGBM] [Info] Number of positive: 15214, number of negative: 180605\n",
            "[LightGBM] [Info] Auto-choosing col-wise multi-threading, the overhead of testing was 0.011236 seconds.\n",
            "You can set `force_col_wise=true` to remove the overhead.\n",
            "[LightGBM] [Info] Total Bins 2302\n",
            "[LightGBM] [Info] Number of data points in the train set: 195819, number of used features: 10\n",
            "[LightGBM] [Info] [binary:BoostFromScore]: pavg=0.457227 -> initscore=-0.171511\n",
            "[LightGBM] [Info] Start training from score -0.171511\n"
          ]
        }
      ],
      "source": [
        "# Liste des 10 features les plus importantes\n",
        "top_features = feature_importances['Feature'][:10].tolist()\n",
        "\n",
        "# Sous-ensemble des données d'entraînement et de test\n",
        "X_train_top = X_train[top_features]\n",
        "X_test_top = X_test[top_features]\n",
        "\n",
        "# # Réinitialisation du modèle avec les meilleurs paramètres trouvés\n",
        "optimized_model = lgb.LGBMClassifier(\n",
        "    class_weight={0: 1, 1: 10}, # Poids des classes \n",
        "    learning_rate = 0.1,\n",
        "    max_depth = 15,\n",
        "    n_estimators= 200, \n",
        "    num_leaves=30,\n",
        "    random_state=seed\n",
        ")\n",
        "\n",
        "# Réentraînement\n",
        "optimized_model.fit(X_train_top, y_train)\n",
        "\n",
        "# Prédictions\n",
        "y_pred_top = optimized_model.predict(X_test_top)\n",
        "y_pred_proba_top = optimized_model.predict_proba(X_test_top)[:, 1]"
      ]
    },
    {
      "cell_type": "code",
      "execution_count": 62,
      "metadata": {
        "colab": {
          "base_uri": "https://localhost:8080/"
        },
        "id": "nY9p9kWqZ4r1",
        "outputId": "7460b78a-6693-43f6-f578-4014614838b3"
      },
      "outputs": [
        {
          "name": "stdout",
          "output_type": "stream",
          "text": [
            "F2-score (top features) : 0.3749\n",
            "F3-score (top features) : 0.4446\n"
          ]
        }
      ],
      "source": [
        "# Affichage des performances\n",
        "f2_top = fbeta_score(y_test, y_pred_top, beta=2)\n",
        "f3_top = fbeta_score(y_test, y_pred_top, beta=3)\n",
        "print(f\"F2-score (top features) : {f2_top:.4f}\")\n",
        "print(f\"F3-score (top features) : {f3_top:.4f}\")"
      ]
    },
    {
      "cell_type": "code",
      "execution_count": 63,
      "metadata": {},
      "outputs": [
        {
          "name": "stdout",
          "output_type": "stream",
          "text": [
            "0.3860346804241903\n",
            "0.4592239009525433\n"
          ]
        }
      ],
      "source": [
        "print(f2)\n",
        "print(f3)"
      ]
    },
    {
      "cell_type": "markdown",
      "metadata": {},
      "source": [
        "**L'écart entre les métriques (f2 et f3) sur 15 caractéristiques et 10 caractériques est de 1 point. Cela veut dire les 10 caractéristiques captent elles seules tout le poids du modèle. Donc, on la modelisation avec ces 10 caractéristiques**"
      ]
    },
    {
      "cell_type": "code",
      "execution_count": 41,
      "metadata": {
        "colab": {
          "base_uri": "https://localhost:8080/"
        },
        "id": "H18aA6bZZ9Yw",
        "outputId": "092f7f22-1f46-4364-e962-976f6d562645"
      },
      "outputs": [
        {
          "name": "stdout",
          "output_type": "stream",
          "text": [
            "Classification Report:\n",
            "               precision    recall  f1-score   support\n",
            "\n",
            "           0       0.95      0.75      0.84     45152\n",
            "           1       0.16      0.58      0.25      3803\n",
            "\n",
            "    accuracy                           0.73     48955\n",
            "   macro avg       0.56      0.66      0.54     48955\n",
            "weighted avg       0.89      0.73      0.79     48955\n",
            "\n",
            "Confusion Matrix:\n",
            " [[33671 11481]\n",
            " [ 1611  2192]]\n"
          ]
        }
      ],
      "source": [
        "# %% Voir la répartition des vraies et fausses prédictions par classe\n",
        "## Classification report\n",
        "report = classification_report(y_test, y_pred_top)\n",
        "print(\"Classification Report:\\n\", report)\n",
        "\n",
        "# Confusion matrix\n",
        "cm = confusion_matrix(y_test, y_pred_top)\n",
        "print(\"Confusion Matrix:\\n\", cm)"
      ]
    },
    {
      "cell_type": "code",
      "execution_count": 42,
      "metadata": {
        "colab": {
          "base_uri": "https://localhost:8080/"
        },
        "id": "ErXQZhVCaGxV",
        "outputId": "e7b357f4-9d16-476a-85e7-6a6a1b93374b"
      },
      "outputs": [
        {
          "name": "stdout",
          "output_type": "stream",
          "text": [
            "F2-score avec seuil ajusté : 0.3600\n",
            "F3-score avec seuil ajusté : 0.5011\n"
          ]
        }
      ],
      "source": [
        "# Ajustement du seuil (exemple à 0.3 pour favoriser la classe minoritaire)\n",
        "y_pred_adjusted = (y_pred_proba_top >= 0.3).astype(int)\n",
        "\n",
        "# Calcul du F2-score avec le nouveau seuil\n",
        "f2_adjusted = fbeta_score(y_test, y_pred_adjusted, beta=2)\n",
        "f3_adjusted = fbeta_score(y_test, y_pred_adjusted, beta=3)\n",
        "print(f\"F2-score avec seuil ajusté : {f2_adjusted:.4f}\")\n",
        "print(f\"F3-score avec seuil ajusté : {f3_adjusted:.4f}\")"
      ]
    },
    {
      "cell_type": "code",
      "execution_count": null,
      "metadata": {
        "id": "r_DGYXYS1yYj"
      },
      "outputs": [],
      "source": [
        "# # Sauvegarde du modèle\n",
        "# joblib.dump(optimized_model, 'lgb_model.pkl')\n",
        "\n",
        "# # %%# Chargement du modèle\n",
        "# model_loaded = joblib.load('lgb_model.pkl')\n",
        "\n",
        "# # Vérification du chargement avec une prédiction\n",
        "# sample_data = np.array([[0.1, 30, 0.3, 100, 500, 250, 1000, 1, 0, 2]])  # Exemple de données\n",
        "# prediction = model_loaded.predict(sample_data)\n",
        "# print(\"Prédiction du modèle chargé :\", prediction)\n"
      ]
    },
    {
      "cell_type": "markdown",
      "metadata": {
        "id": "1kAKtXnvC9Lc"
      },
      "source": [
        "**Regression Logistique**"
      ]
    },
    {
      "cell_type": "code",
      "execution_count": 52,
      "metadata": {
        "colab": {
          "base_uri": "https://localhost:8080/",
          "height": 118
        },
        "id": "eMOa00iUdnOK",
        "outputId": "0107374c-b66f-481d-e0d0-71c4f680ed41"
      },
      "outputs": [
        {
          "name": "stderr",
          "output_type": "stream",
          "text": [
            "2024/12/28 18:13:59 INFO mlflow.utils.autologging_utils: Created MLflow autologging run with ID '78338c9a951545edbaf02754cc0baf03', which will track hyperparameters, performance metrics, model artifacts, and lineage information for the current sklearn workflow\n"
          ]
        },
        {
          "data": {
            "text/html": [
              "<style>#sk-container-id-10 {\n",
              "  /* Definition of color scheme common for light and dark mode */\n",
              "  --sklearn-color-text: #000;\n",
              "  --sklearn-color-text-muted: #666;\n",
              "  --sklearn-color-line: gray;\n",
              "  /* Definition of color scheme for unfitted estimators */\n",
              "  --sklearn-color-unfitted-level-0: #fff5e6;\n",
              "  --sklearn-color-unfitted-level-1: #f6e4d2;\n",
              "  --sklearn-color-unfitted-level-2: #ffe0b3;\n",
              "  --sklearn-color-unfitted-level-3: chocolate;\n",
              "  /* Definition of color scheme for fitted estimators */\n",
              "  --sklearn-color-fitted-level-0: #f0f8ff;\n",
              "  --sklearn-color-fitted-level-1: #d4ebff;\n",
              "  --sklearn-color-fitted-level-2: #b3dbfd;\n",
              "  --sklearn-color-fitted-level-3: cornflowerblue;\n",
              "\n",
              "  /* Specific color for light theme */\n",
              "  --sklearn-color-text-on-default-background: var(--sg-text-color, var(--theme-code-foreground, var(--jp-content-font-color1, black)));\n",
              "  --sklearn-color-background: var(--sg-background-color, var(--theme-background, var(--jp-layout-color0, white)));\n",
              "  --sklearn-color-border-box: var(--sg-text-color, var(--theme-code-foreground, var(--jp-content-font-color1, black)));\n",
              "  --sklearn-color-icon: #696969;\n",
              "\n",
              "  @media (prefers-color-scheme: dark) {\n",
              "    /* Redefinition of color scheme for dark theme */\n",
              "    --sklearn-color-text-on-default-background: var(--sg-text-color, var(--theme-code-foreground, var(--jp-content-font-color1, white)));\n",
              "    --sklearn-color-background: var(--sg-background-color, var(--theme-background, var(--jp-layout-color0, #111)));\n",
              "    --sklearn-color-border-box: var(--sg-text-color, var(--theme-code-foreground, var(--jp-content-font-color1, white)));\n",
              "    --sklearn-color-icon: #878787;\n",
              "  }\n",
              "}\n",
              "\n",
              "#sk-container-id-10 {\n",
              "  color: var(--sklearn-color-text);\n",
              "}\n",
              "\n",
              "#sk-container-id-10 pre {\n",
              "  padding: 0;\n",
              "}\n",
              "\n",
              "#sk-container-id-10 input.sk-hidden--visually {\n",
              "  border: 0;\n",
              "  clip: rect(1px 1px 1px 1px);\n",
              "  clip: rect(1px, 1px, 1px, 1px);\n",
              "  height: 1px;\n",
              "  margin: -1px;\n",
              "  overflow: hidden;\n",
              "  padding: 0;\n",
              "  position: absolute;\n",
              "  width: 1px;\n",
              "}\n",
              "\n",
              "#sk-container-id-10 div.sk-dashed-wrapped {\n",
              "  border: 1px dashed var(--sklearn-color-line);\n",
              "  margin: 0 0.4em 0.5em 0.4em;\n",
              "  box-sizing: border-box;\n",
              "  padding-bottom: 0.4em;\n",
              "  background-color: var(--sklearn-color-background);\n",
              "}\n",
              "\n",
              "#sk-container-id-10 div.sk-container {\n",
              "  /* jupyter's `normalize.less` sets `[hidden] { display: none; }`\n",
              "     but bootstrap.min.css set `[hidden] { display: none !important; }`\n",
              "     so we also need the `!important` here to be able to override the\n",
              "     default hidden behavior on the sphinx rendered scikit-learn.org.\n",
              "     See: https://github.com/scikit-learn/scikit-learn/issues/21755 */\n",
              "  display: inline-block !important;\n",
              "  position: relative;\n",
              "}\n",
              "\n",
              "#sk-container-id-10 div.sk-text-repr-fallback {\n",
              "  display: none;\n",
              "}\n",
              "\n",
              "div.sk-parallel-item,\n",
              "div.sk-serial,\n",
              "div.sk-item {\n",
              "  /* draw centered vertical line to link estimators */\n",
              "  background-image: linear-gradient(var(--sklearn-color-text-on-default-background), var(--sklearn-color-text-on-default-background));\n",
              "  background-size: 2px 100%;\n",
              "  background-repeat: no-repeat;\n",
              "  background-position: center center;\n",
              "}\n",
              "\n",
              "/* Parallel-specific style estimator block */\n",
              "\n",
              "#sk-container-id-10 div.sk-parallel-item::after {\n",
              "  content: \"\";\n",
              "  width: 100%;\n",
              "  border-bottom: 2px solid var(--sklearn-color-text-on-default-background);\n",
              "  flex-grow: 1;\n",
              "}\n",
              "\n",
              "#sk-container-id-10 div.sk-parallel {\n",
              "  display: flex;\n",
              "  align-items: stretch;\n",
              "  justify-content: center;\n",
              "  background-color: var(--sklearn-color-background);\n",
              "  position: relative;\n",
              "}\n",
              "\n",
              "#sk-container-id-10 div.sk-parallel-item {\n",
              "  display: flex;\n",
              "  flex-direction: column;\n",
              "}\n",
              "\n",
              "#sk-container-id-10 div.sk-parallel-item:first-child::after {\n",
              "  align-self: flex-end;\n",
              "  width: 50%;\n",
              "}\n",
              "\n",
              "#sk-container-id-10 div.sk-parallel-item:last-child::after {\n",
              "  align-self: flex-start;\n",
              "  width: 50%;\n",
              "}\n",
              "\n",
              "#sk-container-id-10 div.sk-parallel-item:only-child::after {\n",
              "  width: 0;\n",
              "}\n",
              "\n",
              "/* Serial-specific style estimator block */\n",
              "\n",
              "#sk-container-id-10 div.sk-serial {\n",
              "  display: flex;\n",
              "  flex-direction: column;\n",
              "  align-items: center;\n",
              "  background-color: var(--sklearn-color-background);\n",
              "  padding-right: 1em;\n",
              "  padding-left: 1em;\n",
              "}\n",
              "\n",
              "\n",
              "/* Toggleable style: style used for estimator/Pipeline/ColumnTransformer box that is\n",
              "clickable and can be expanded/collapsed.\n",
              "- Pipeline and ColumnTransformer use this feature and define the default style\n",
              "- Estimators will overwrite some part of the style using the `sk-estimator` class\n",
              "*/\n",
              "\n",
              "/* Pipeline and ColumnTransformer style (default) */\n",
              "\n",
              "#sk-container-id-10 div.sk-toggleable {\n",
              "  /* Default theme specific background. It is overwritten whether we have a\n",
              "  specific estimator or a Pipeline/ColumnTransformer */\n",
              "  background-color: var(--sklearn-color-background);\n",
              "}\n",
              "\n",
              "/* Toggleable label */\n",
              "#sk-container-id-10 label.sk-toggleable__label {\n",
              "  cursor: pointer;\n",
              "  display: flex;\n",
              "  width: 100%;\n",
              "  margin-bottom: 0;\n",
              "  padding: 0.5em;\n",
              "  box-sizing: border-box;\n",
              "  text-align: center;\n",
              "  align-items: start;\n",
              "  justify-content: space-between;\n",
              "  gap: 0.5em;\n",
              "}\n",
              "\n",
              "#sk-container-id-10 label.sk-toggleable__label .caption {\n",
              "  font-size: 0.6rem;\n",
              "  font-weight: lighter;\n",
              "  color: var(--sklearn-color-text-muted);\n",
              "}\n",
              "\n",
              "#sk-container-id-10 label.sk-toggleable__label-arrow:before {\n",
              "  /* Arrow on the left of the label */\n",
              "  content: \"▸\";\n",
              "  float: left;\n",
              "  margin-right: 0.25em;\n",
              "  color: var(--sklearn-color-icon);\n",
              "}\n",
              "\n",
              "#sk-container-id-10 label.sk-toggleable__label-arrow:hover:before {\n",
              "  color: var(--sklearn-color-text);\n",
              "}\n",
              "\n",
              "/* Toggleable content - dropdown */\n",
              "\n",
              "#sk-container-id-10 div.sk-toggleable__content {\n",
              "  max-height: 0;\n",
              "  max-width: 0;\n",
              "  overflow: hidden;\n",
              "  text-align: left;\n",
              "  /* unfitted */\n",
              "  background-color: var(--sklearn-color-unfitted-level-0);\n",
              "}\n",
              "\n",
              "#sk-container-id-10 div.sk-toggleable__content.fitted {\n",
              "  /* fitted */\n",
              "  background-color: var(--sklearn-color-fitted-level-0);\n",
              "}\n",
              "\n",
              "#sk-container-id-10 div.sk-toggleable__content pre {\n",
              "  margin: 0.2em;\n",
              "  border-radius: 0.25em;\n",
              "  color: var(--sklearn-color-text);\n",
              "  /* unfitted */\n",
              "  background-color: var(--sklearn-color-unfitted-level-0);\n",
              "}\n",
              "\n",
              "#sk-container-id-10 div.sk-toggleable__content.fitted pre {\n",
              "  /* unfitted */\n",
              "  background-color: var(--sklearn-color-fitted-level-0);\n",
              "}\n",
              "\n",
              "#sk-container-id-10 input.sk-toggleable__control:checked~div.sk-toggleable__content {\n",
              "  /* Expand drop-down */\n",
              "  max-height: 200px;\n",
              "  max-width: 100%;\n",
              "  overflow: auto;\n",
              "}\n",
              "\n",
              "#sk-container-id-10 input.sk-toggleable__control:checked~label.sk-toggleable__label-arrow:before {\n",
              "  content: \"▾\";\n",
              "}\n",
              "\n",
              "/* Pipeline/ColumnTransformer-specific style */\n",
              "\n",
              "#sk-container-id-10 div.sk-label input.sk-toggleable__control:checked~label.sk-toggleable__label {\n",
              "  color: var(--sklearn-color-text);\n",
              "  background-color: var(--sklearn-color-unfitted-level-2);\n",
              "}\n",
              "\n",
              "#sk-container-id-10 div.sk-label.fitted input.sk-toggleable__control:checked~label.sk-toggleable__label {\n",
              "  background-color: var(--sklearn-color-fitted-level-2);\n",
              "}\n",
              "\n",
              "/* Estimator-specific style */\n",
              "\n",
              "/* Colorize estimator box */\n",
              "#sk-container-id-10 div.sk-estimator input.sk-toggleable__control:checked~label.sk-toggleable__label {\n",
              "  /* unfitted */\n",
              "  background-color: var(--sklearn-color-unfitted-level-2);\n",
              "}\n",
              "\n",
              "#sk-container-id-10 div.sk-estimator.fitted input.sk-toggleable__control:checked~label.sk-toggleable__label {\n",
              "  /* fitted */\n",
              "  background-color: var(--sklearn-color-fitted-level-2);\n",
              "}\n",
              "\n",
              "#sk-container-id-10 div.sk-label label.sk-toggleable__label,\n",
              "#sk-container-id-10 div.sk-label label {\n",
              "  /* The background is the default theme color */\n",
              "  color: var(--sklearn-color-text-on-default-background);\n",
              "}\n",
              "\n",
              "/* On hover, darken the color of the background */\n",
              "#sk-container-id-10 div.sk-label:hover label.sk-toggleable__label {\n",
              "  color: var(--sklearn-color-text);\n",
              "  background-color: var(--sklearn-color-unfitted-level-2);\n",
              "}\n",
              "\n",
              "/* Label box, darken color on hover, fitted */\n",
              "#sk-container-id-10 div.sk-label.fitted:hover label.sk-toggleable__label.fitted {\n",
              "  color: var(--sklearn-color-text);\n",
              "  background-color: var(--sklearn-color-fitted-level-2);\n",
              "}\n",
              "\n",
              "/* Estimator label */\n",
              "\n",
              "#sk-container-id-10 div.sk-label label {\n",
              "  font-family: monospace;\n",
              "  font-weight: bold;\n",
              "  display: inline-block;\n",
              "  line-height: 1.2em;\n",
              "}\n",
              "\n",
              "#sk-container-id-10 div.sk-label-container {\n",
              "  text-align: center;\n",
              "}\n",
              "\n",
              "/* Estimator-specific */\n",
              "#sk-container-id-10 div.sk-estimator {\n",
              "  font-family: monospace;\n",
              "  border: 1px dotted var(--sklearn-color-border-box);\n",
              "  border-radius: 0.25em;\n",
              "  box-sizing: border-box;\n",
              "  margin-bottom: 0.5em;\n",
              "  /* unfitted */\n",
              "  background-color: var(--sklearn-color-unfitted-level-0);\n",
              "}\n",
              "\n",
              "#sk-container-id-10 div.sk-estimator.fitted {\n",
              "  /* fitted */\n",
              "  background-color: var(--sklearn-color-fitted-level-0);\n",
              "}\n",
              "\n",
              "/* on hover */\n",
              "#sk-container-id-10 div.sk-estimator:hover {\n",
              "  /* unfitted */\n",
              "  background-color: var(--sklearn-color-unfitted-level-2);\n",
              "}\n",
              "\n",
              "#sk-container-id-10 div.sk-estimator.fitted:hover {\n",
              "  /* fitted */\n",
              "  background-color: var(--sklearn-color-fitted-level-2);\n",
              "}\n",
              "\n",
              "/* Specification for estimator info (e.g. \"i\" and \"?\") */\n",
              "\n",
              "/* Common style for \"i\" and \"?\" */\n",
              "\n",
              ".sk-estimator-doc-link,\n",
              "a:link.sk-estimator-doc-link,\n",
              "a:visited.sk-estimator-doc-link {\n",
              "  float: right;\n",
              "  font-size: smaller;\n",
              "  line-height: 1em;\n",
              "  font-family: monospace;\n",
              "  background-color: var(--sklearn-color-background);\n",
              "  border-radius: 1em;\n",
              "  height: 1em;\n",
              "  width: 1em;\n",
              "  text-decoration: none !important;\n",
              "  margin-left: 0.5em;\n",
              "  text-align: center;\n",
              "  /* unfitted */\n",
              "  border: var(--sklearn-color-unfitted-level-1) 1pt solid;\n",
              "  color: var(--sklearn-color-unfitted-level-1);\n",
              "}\n",
              "\n",
              ".sk-estimator-doc-link.fitted,\n",
              "a:link.sk-estimator-doc-link.fitted,\n",
              "a:visited.sk-estimator-doc-link.fitted {\n",
              "  /* fitted */\n",
              "  border: var(--sklearn-color-fitted-level-1) 1pt solid;\n",
              "  color: var(--sklearn-color-fitted-level-1);\n",
              "}\n",
              "\n",
              "/* On hover */\n",
              "div.sk-estimator:hover .sk-estimator-doc-link:hover,\n",
              ".sk-estimator-doc-link:hover,\n",
              "div.sk-label-container:hover .sk-estimator-doc-link:hover,\n",
              ".sk-estimator-doc-link:hover {\n",
              "  /* unfitted */\n",
              "  background-color: var(--sklearn-color-unfitted-level-3);\n",
              "  color: var(--sklearn-color-background);\n",
              "  text-decoration: none;\n",
              "}\n",
              "\n",
              "div.sk-estimator.fitted:hover .sk-estimator-doc-link.fitted:hover,\n",
              ".sk-estimator-doc-link.fitted:hover,\n",
              "div.sk-label-container:hover .sk-estimator-doc-link.fitted:hover,\n",
              ".sk-estimator-doc-link.fitted:hover {\n",
              "  /* fitted */\n",
              "  background-color: var(--sklearn-color-fitted-level-3);\n",
              "  color: var(--sklearn-color-background);\n",
              "  text-decoration: none;\n",
              "}\n",
              "\n",
              "/* Span, style for the box shown on hovering the info icon */\n",
              ".sk-estimator-doc-link span {\n",
              "  display: none;\n",
              "  z-index: 9999;\n",
              "  position: relative;\n",
              "  font-weight: normal;\n",
              "  right: .2ex;\n",
              "  padding: .5ex;\n",
              "  margin: .5ex;\n",
              "  width: min-content;\n",
              "  min-width: 20ex;\n",
              "  max-width: 50ex;\n",
              "  color: var(--sklearn-color-text);\n",
              "  box-shadow: 2pt 2pt 4pt #999;\n",
              "  /* unfitted */\n",
              "  background: var(--sklearn-color-unfitted-level-0);\n",
              "  border: .5pt solid var(--sklearn-color-unfitted-level-3);\n",
              "}\n",
              "\n",
              ".sk-estimator-doc-link.fitted span {\n",
              "  /* fitted */\n",
              "  background: var(--sklearn-color-fitted-level-0);\n",
              "  border: var(--sklearn-color-fitted-level-3);\n",
              "}\n",
              "\n",
              ".sk-estimator-doc-link:hover span {\n",
              "  display: block;\n",
              "}\n",
              "\n",
              "/* \"?\"-specific style due to the `<a>` HTML tag */\n",
              "\n",
              "#sk-container-id-10 a.estimator_doc_link {\n",
              "  float: right;\n",
              "  font-size: 1rem;\n",
              "  line-height: 1em;\n",
              "  font-family: monospace;\n",
              "  background-color: var(--sklearn-color-background);\n",
              "  border-radius: 1rem;\n",
              "  height: 1rem;\n",
              "  width: 1rem;\n",
              "  text-decoration: none;\n",
              "  /* unfitted */\n",
              "  color: var(--sklearn-color-unfitted-level-1);\n",
              "  border: var(--sklearn-color-unfitted-level-1) 1pt solid;\n",
              "}\n",
              "\n",
              "#sk-container-id-10 a.estimator_doc_link.fitted {\n",
              "  /* fitted */\n",
              "  border: var(--sklearn-color-fitted-level-1) 1pt solid;\n",
              "  color: var(--sklearn-color-fitted-level-1);\n",
              "}\n",
              "\n",
              "/* On hover */\n",
              "#sk-container-id-10 a.estimator_doc_link:hover {\n",
              "  /* unfitted */\n",
              "  background-color: var(--sklearn-color-unfitted-level-3);\n",
              "  color: var(--sklearn-color-background);\n",
              "  text-decoration: none;\n",
              "}\n",
              "\n",
              "#sk-container-id-10 a.estimator_doc_link.fitted:hover {\n",
              "  /* fitted */\n",
              "  background-color: var(--sklearn-color-fitted-level-3);\n",
              "}\n",
              "</style><div id=\"sk-container-id-10\" class=\"sk-top-container\"><div class=\"sk-text-repr-fallback\"><pre>LogisticRegression(random_state=123)</pre><b>In a Jupyter environment, please rerun this cell to show the HTML representation or trust the notebook. <br />On GitHub, the HTML representation is unable to render, please try loading this page with nbviewer.org.</b></div><div class=\"sk-container\" hidden><div class=\"sk-item\"><div class=\"sk-estimator fitted sk-toggleable\"><input class=\"sk-toggleable__control sk-hidden--visually\" id=\"sk-estimator-id-10\" type=\"checkbox\" checked><label for=\"sk-estimator-id-10\" class=\"sk-toggleable__label fitted sk-toggleable__label-arrow\"><div><div>LogisticRegression</div></div><div><a class=\"sk-estimator-doc-link fitted\" rel=\"noreferrer\" target=\"_blank\" href=\"https://scikit-learn.org/1.6/modules/generated/sklearn.linear_model.LogisticRegression.html\">?<span>Documentation for LogisticRegression</span></a><span class=\"sk-estimator-doc-link fitted\">i<span>Fitted</span></span></div></label><div class=\"sk-toggleable__content fitted\"><pre>LogisticRegression(random_state=123)</pre></div> </div></div></div></div>"
            ],
            "text/plain": [
              "LogisticRegression(random_state=123)"
            ]
          },
          "execution_count": 52,
          "metadata": {},
          "output_type": "execute_result"
        }
      ],
      "source": [
        "# Entraînement du modèle\n",
        "clf = LogisticRegression(random_state=seed)\n",
        "clf.fit(X_train, y_train)"
      ]
    },
    {
      "cell_type": "code",
      "execution_count": 53,
      "metadata": {
        "colab": {
          "base_uri": "https://localhost:8080/"
        },
        "id": "WviIGQdOdtUH",
        "outputId": "dac22bff-44db-40da-990c-27b206aeb7e8"
      },
      "outputs": [
        {
          "name": "stdout",
          "output_type": "stream",
          "text": [
            "F2-score (Regression Logistique) : 0.0039\n",
            "F3-score (Regression Logistique) : 0.0035\n"
          ]
        }
      ],
      "source": [
        "y_pred_clf = clf.predict(X_test)\n",
        "f2_log = fbeta_score(y_test, y_pred_clf, beta=2)\n",
        "f3_log = fbeta_score(y_test, y_pred_clf, beta=3)\n",
        "# y_pred_proba_log = clf.predict_proba(X_test)[:, 1]\n",
        "print(f\"F2-score (Regression Logistique) : {f2_log:.4f}\")\n",
        "print(f\"F3-score (Regression Logistique) : {f3_log:.4f}\")\n",
        "\n",
        "# F2-score (Regression Logistique) : 0.0039\n",
        "# F3-score (Regression Logistique) : 0.0035"
      ]
    },
    {
      "cell_type": "markdown",
      "metadata": {
        "id": "v1_bwZbg-uDV"
      },
      "source": [
        "**Tracking avec mlflow**"
      ]
    },
    {
      "cell_type": "code",
      "execution_count": null,
      "metadata": {},
      "outputs": [],
      "source": []
    },
    {
      "cell_type": "code",
      "execution_count": 88,
      "metadata": {
        "colab": {
          "base_uri": "https://localhost:8080/"
        },
        "id": "XVW_5vu0Fqn4",
        "outputId": "c9676dc2-f758-463a-ca0f-6bc3d2db7716"
      },
      "outputs": [
        {
          "data": {
            "text/plain": [
              "<Experiment: artifact_location='file:///content/mlruns/407454828257027944', creation_time=1735419799132, experiment_id='407454828257027944', last_update_time=1735419799132, lifecycle_stage='active', name='Modeles', tags={}>"
            ]
          },
          "execution_count": 88,
          "metadata": {},
          "output_type": "execute_result"
        }
      ],
      "source": [
        "# # Tracking avec mlflow\n",
        "# import mlflow\n",
        "# import mlflow.sklearn\n",
        "# import mlflow.lightgbm\n",
        "# from sklearn.metrics import accuracy_score, f1_score\n",
        "# mlflow.set_experiment(\"Modeles\") # Nom de ma branche"
      ]
    },
    {
      "cell_type": "markdown",
      "metadata": {
        "id": "AfEb4FCe_HXV"
      },
      "source": [
        "**Regression Logistique**"
      ]
    },
    {
      "cell_type": "code",
      "execution_count": 89,
      "metadata": {
        "colab": {
          "base_uri": "https://localhost:8080/"
        },
        "id": "Rquz8RuDD_PW",
        "outputId": "43a74676-e2aa-420e-af8d-2f0c521535ad"
      },
      "outputs": [
        {
          "name": "stderr",
          "output_type": "stream",
          "text": [
            "2024/12/28 21:31:29 WARNING mlflow.utils.autologging_utils: MLflow sklearn autologging is known to be compatible with 0.24.1 <= scikit-learn <= 1.5.2, but the installed version is 1.6.0. If you encounter errors during autologging, try upgrading / downgrading scikit-learn to a compatible version, or try upgrading MLflow.\n"
          ]
        }
      ],
      "source": [
        "# # Créer mon exécution avec un nom à defaut\n",
        "# # Appel à l'api de slearn de mlflow qui integre tous les modules de sklearn\n",
        "# mlflow.sklearn.autolog()\n",
        "\n",
        "# # Premier run\n",
        "# with mlflow.start_run(run_name=\"reg_log_defaut\"):\n",
        "#   # Entraînement du modèle\n",
        "#   clf = LogisticRegression(random_state=seed)\n",
        "#   clf.fit(X_train, y_train)\n"
      ]
    },
    {
      "cell_type": "code",
      "execution_count": 90,
      "metadata": {
        "id": "i0MMyU7dDDlX"
      },
      "outputs": [],
      "source": [
        "# # On va faire un second run avec un nombre d'itération max de 200\n",
        "# with mlflow.start_run(run_name=\"reg_log_maxiter200\"):\n",
        "#   clf_2 = LogisticRegression(random_state=seed, max_iter = 200)\n",
        "#   clf_2.fit(X_train, y_train)"
      ]
    },
    {
      "cell_type": "markdown",
      "metadata": {
        "id": "MVXKx1OjSHS_"
      },
      "source": [
        "**LGBMClassifier**"
      ]
    },
    {
      "cell_type": "code",
      "execution_count": null,
      "metadata": {
        "colab": {
          "base_uri": "https://localhost:8080/"
        },
        "id": "QkH-fMEvSPWP",
        "outputId": "0fac7c77-b965-4f13-adf8-842fc831908f"
      },
      "outputs": [],
      "source": [
        "# Un troisième run pour le modèle LightGBM avec les paramètres par défaut\n",
        "# Activation de l'autolog pour LightGBM\n",
        "mlflow.lightgbm.autolog()\n",
        "\n",
        "with mlflow.start_run(run_name=\"lgb_balanced\"):\n",
        "  lgb_1 = lgb.LGBMClassifier(\n",
        "                  class_weight='balanced',  # Gestion automatique du déséquilibre\n",
        "                  random_state=seed)\n",
        "  lgb_1.fit(X_train, y_train)\n",
        "\n",
        "    # Prédictions sur les données de test\n",
        "  y_pred = lgb_1.predict(X_test)\n",
        "\n",
        "  # Calcul des métriques\n",
        "  acc = accuracy_score(y_test, y_pred)\n",
        "  f1 = f1_score(y_test, y_pred, average=\"weighted\")\n",
        "\n",
        "  # Log des métriques dans MLflow\n",
        "  mlflow.log_metric(\"accuracy\", acc)\n",
        "  mlflow.log_metric(\"f1_score\", f1)"
      ]
    },
    {
      "cell_type": "code",
      "execution_count": null,
      "metadata": {
        "colab": {
          "base_uri": "https://localhost:8080/"
        },
        "id": "vE-Y3aZRThPF",
        "outputId": "51b616c0-3219-4d86-93e8-7de13f283a90"
      },
      "outputs": [],
      "source": [
        "# Un quatrième run pour le modèle LightGBM avec les paramètres optimisés\n",
        "with mlflow.start_run(run_name=\"lgb_optimized\"):\n",
        "  optimized_model = lgb.LGBMClassifier(\n",
        "      learning_rate=0.1,\n",
        "      max_depth=20,\n",
        "      n_estimators=200,\n",
        "      num_leaves=70,\n",
        "      class_weight='balanced',  # Pour compenser le déséquilibre des classes\n",
        "      random_state=42)\n",
        "\n",
        "  optimized_model.fit(X_train_top, y_train)\n",
        "\n",
        "    # Prédictions sur les données de test\n",
        "  y_pred_opt = optimized_model.predict(X_test_top)\n",
        "\n",
        "  # Calcul des métriques\n",
        "  acc_opt = accuracy_score(y_test, y_pred_opt)\n",
        "  f1_opt = f1_score(y_test, y_pred_opt, average=\"weighted\")\n",
        "\n",
        "  # Log des métriques dans MLflow\n",
        "  mlflow.log_metric(\"accuracy\", acc_opt)\n",
        "  mlflow.log_metric(\"f1_score\", f1_opt)"
      ]
    },
    {
      "cell_type": "code",
      "execution_count": 93,
      "metadata": {
        "colab": {
          "base_uri": "https://localhost:8080/"
        },
        "id": "-5AiGdoIK5bd",
        "outputId": "536e8f20-3be2-4010-883e-a878225e25ff"
      },
      "outputs": [
        {
          "name": "stdout",
          "output_type": "stream",
          "text": [
            "MLflow Tracking UI: https://0622-34-125-133-184.ngrok-free.app\n"
          ]
        }
      ],
      "source": [
        "# # On crée un ngrok  dans https://dashboard.ngrok.com/auth puis le code de \"your authtoken\"\n",
        "# from pyngrok import ngrok\n",
        "# # Terminate open tunnels if exist\n",
        "# ngrok.kill()\n",
        "\n",
        "# # Configuration de l'authentification sur ngrok\n",
        "# NGROK_AUTH_TOKEN  = '2qqxhNrwNmvZFKJQoavME6A7bAh_3jMsGH7o95sJ9Pbtj6zDJ'\n",
        "# ngrok.set_auth_token(NGROK_AUTH_TOKEN)\n",
        "\n",
        "# # Ouvrir un tunnel HTTPs sur le port 5000 pour http://localhost:5000\n",
        "# ngrok_tunnel = ngrok.connect(addr=\"5000\", proto=\"http\", bind_tls=True)\n",
        "# print(\"MLflow Tracking UI:\", ngrok_tunnel.public_url)"
      ]
    },
    {
      "cell_type": "markdown",
      "metadata": {
        "id": "55BI-z5lLhft"
      },
      "source": [
        "**Insterface ui de MLFLOW**\n",
        "\n",
        "Une fois la cellule, ci-dessous, exécutée, on clique sur le lien **MLflow Tracking UI** ci-dessus."
      ]
    },
    {
      "cell_type": "code",
      "execution_count": null,
      "metadata": {
        "colab": {
          "base_uri": "https://localhost:8080/"
        },
        "id": "aRoMeVv_Lm8y",
        "outputId": "060e591f-8d3d-43da-ada0-0550b28db205"
      },
      "outputs": [],
      "source": [
        "# Lancer le serveur MLflow\n",
        "# !mlflow ui"
      ]
    },
    {
      "cell_type": "markdown",
      "metadata": {},
      "source": [
        "# **Partie remodeling**"
      ]
    },
    {
      "cell_type": "markdown",
      "metadata": {},
      "source": [
        "**Fonction pour calculer le coût métier**"
      ]
    },
    {
      "cell_type": "code",
      "execution_count": 7,
      "metadata": {},
      "outputs": [],
      "source": [
        "def calculate_business_cost(y_true, y_pred_proba, threshold=0.5, cost_fn=10, cost_fp=1):\n",
        "    \"\"\"\n",
        "    Calcule le coût métier en fonction des FN et FP.\n",
        "    \n",
        "    Arguments:\n",
        "    - y_true : array, vraies classes\n",
        "    - y_pred_proba : array, probabilités prédites\n",
        "    - threshold : float, seuil pour classer en 0 ou 1\n",
        "    - cost_fn : int, coût d'un FN\n",
        "    - cost_fp : int, coût d'un FP\n",
        "    \n",
        "    Retourne:\n",
        "    - coût total\n",
        "    \"\"\"\n",
        "    # Prédictions binaires\n",
        "    y_pred = (y_pred_proba >= threshold).astype(int)\n",
        "    \n",
        "    # Calcul des FN et FP\n",
        "    FN = np.sum((y_true == 1) & (y_pred == 0))\n",
        "    FP = np.sum((y_true == 0) & (y_pred == 1))\n",
        "    \n",
        "    # Calcul du coût total\n",
        "    total_cost = FN * cost_fn + FP * cost_fp\n",
        "    return total_cost\n"
      ]
    },
    {
      "cell_type": "markdown",
      "metadata": {},
      "source": [
        "**Fonction d'optimisation du seuil**\n",
        "\n",
        "On crée une fonction pour trouver le meilleur seuil en minimisant le coût métier."
      ]
    },
    {
      "cell_type": "code",
      "execution_count": 8,
      "metadata": {},
      "outputs": [],
      "source": [
        "def optimize_threshold(y_true, y_pred_proba, cost_fn=10, cost_fp=1):\n",
        "    \"\"\"\n",
        "    Optimise le seuil pour minimiser le coût métier.\n",
        "    \n",
        "    Arguments:\n",
        "    - y_true : array, vraies classes\n",
        "    - y_pred_proba : array, probabilités prédites\n",
        "    - cost_fn : int, coût d'un FN\n",
        "    - cost_fp : int, coût d'un FP\n",
        "    \n",
        "    Retourne:\n",
        "    - seuil optimal\n",
        "    - coût minimal\n",
        "    \"\"\"\n",
        "    best_threshold = 0.5\n",
        "    min_cost = float('inf')\n",
        "    \n",
        "    # Tester différents seuils entre 0 et 1\n",
        "    thresholds = np.linspace(0, 1, 100)\n",
        "    for threshold in thresholds:\n",
        "        cost = calculate_business_cost(y_true, y_pred_proba, threshold, cost_fn, cost_fp)\n",
        "        if cost < min_cost:\n",
        "            min_cost = cost\n",
        "            best_threshold = threshold\n",
        "    \n",
        "    return best_threshold, min_cost\n"
      ]
    },
    {
      "cell_type": "markdown",
      "metadata": {},
      "source": [
        "**Librairies pour le MLFLOW**"
      ]
    },
    {
      "cell_type": "code",
      "execution_count": null,
      "metadata": {},
      "outputs": [],
      "source": [
        "!pip install mlflow"
      ]
    },
    {
      "cell_type": "code",
      "execution_count": 15,
      "metadata": {},
      "outputs": [],
      "source": [
        "import mlflow\n",
        "import mlflow.sklearn"
      ]
    },
    {
      "cell_type": "markdown",
      "metadata": {},
      "source": [
        "**Choix des métriques**"
      ]
    },
    {
      "cell_type": "code",
      "execution_count": 11,
      "metadata": {},
      "outputs": [],
      "source": [
        "# Fonction pour calculer les métriques\n",
        "def calculate_metrics(y_true, y_pred, y_pred_proba, beta_2=2, beta_3=3):\n",
        "    auc = roc_auc_score(y_true, y_pred_proba)\n",
        "    accuracy = accuracy_score(y_true, y_pred)\n",
        "    f2 = fbeta_score(y_true, y_pred, beta=beta_2)\n",
        "    f3 = fbeta_score(y_true, y_pred, beta=beta_3)\n",
        "    return auc, accuracy, f2, f3"
      ]
    },
    {
      "cell_type": "markdown",
      "metadata": {},
      "source": [
        "**Initialiser MLFLOW**"
      ]
    },
    {
      "cell_type": "code",
      "execution_count": 12,
      "metadata": {},
      "outputs": [
        {
          "name": "stderr",
          "output_type": "stream",
          "text": [
            "2025/01/05 00:36:54 INFO mlflow.tracking.fluent: Experiment with name 'Credit Scoring Experiment' does not exist. Creating a new experiment.\n"
          ]
        }
      ],
      "source": [
        "# Initialiser MLflow\n",
        "mlflow.set_experiment(\"Credit Scoring Experiment\") # Nom de l'expérience\n",
        "mlflow.lightgbm.autolog() # Pour le suivi des modèles LightGBM\n",
        "mlflow.sklearn.autolog() # Pour le suivi des modèles sklearn"
      ]
    },
    {
      "cell_type": "markdown",
      "metadata": {},
      "source": [
        "**Les best paramètres**"
      ]
    },
    {
      "cell_type": "code",
      "execution_count": 65,
      "metadata": {},
      "outputs": [
        {
          "name": "stdout",
          "output_type": "stream",
          "text": [
            "{'learning_rate': 0.1, 'max_depth': 15, 'n_estimators': 200, 'num_leaves': 31}\n",
            "{'C': 100, 'penalty': 'l1'}\n",
            "{'max_depth': 10, 'min_samples_leaf': 1, 'min_samples_split': 5, 'n_estimators': 300}\n"
          ]
        }
      ],
      "source": [
        "print(best_lgbm_params)\n",
        "print(best_log_params)\n",
        "print(best_rf_params)"
      ]
    },
    {
      "cell_type": "markdown",
      "metadata": {},
      "source": [
        "**Liste des modèles à comparer**"
      ]
    },
    {
      "cell_type": "code",
      "execution_count": 69,
      "metadata": {},
      "outputs": [],
      "source": [
        "models = {\n",
        "    \"LightGBM\": LGBMClassifier(class_weight={0: 1, 1: 10}, random_state=42,\n",
        "                               learning_rate= 0.1, max_depth= 5, \n",
        "                               n_estimators= 100, num_leaves= 50),\n",
        "\n",
        "    \"Logistic Regression\": LogisticRegression(class_weight={0: 1, 1: 10}, \n",
        "                                              C= 100, max_iter=500, random_state=42),\n",
        "\n",
        "    \"Random Forest\": RandomForestClassifier(class_weight={0: 1, 1: 10}, \n",
        "                                            max_depth=10, min_samples_leaf=1, \n",
        "                                            min_samples_split=5, n_estimators=300,\n",
        "                                            random_state=42)\n",
        "}"
      ]
    },
    {
      "cell_type": "code",
      "execution_count": 70,
      "metadata": {},
      "outputs": [
        {
          "name": "stdout",
          "output_type": "stream",
          "text": [
            "[LightGBM] [Info] Number of positive: 15214, number of negative: 180605\n",
            "[LightGBM] [Info] Auto-choosing col-wise multi-threading, the overhead of testing was 0.013770 seconds.\n",
            "You can set `force_col_wise=true` to remove the overhead.\n",
            "[LightGBM] [Info] Total Bins 2302\n",
            "[LightGBM] [Info] Number of data points in the train set: 195819, number of used features: 10\n",
            "[LightGBM] [Info] [binary:BoostFromScore]: pavg=0.457227 -> initscore=-0.171511\n",
            "[LightGBM] [Info] Start training from score -0.171511\n",
            "[LightGBM] [Warning] No further splits with positive gain, best gain: -inf\n",
            "[LightGBM] [Warning] No further splits with positive gain, best gain: -inf\n",
            "[LightGBM] [Warning] No further splits with positive gain, best gain: -inf\n",
            "[LightGBM] [Warning] No further splits with positive gain, best gain: -inf\n",
            "[LightGBM] [Warning] No further splits with positive gain, best gain: -inf\n",
            "[LightGBM] [Warning] No further splits with positive gain, best gain: -inf\n",
            "[LightGBM] [Warning] No further splits with positive gain, best gain: -inf\n",
            "[LightGBM] [Warning] No further splits with positive gain, best gain: -inf\n",
            "[LightGBM] [Warning] No further splits with positive gain, best gain: -inf\n",
            "[LightGBM] [Warning] No further splits with positive gain, best gain: -inf\n",
            "[LightGBM] [Warning] No further splits with positive gain, best gain: -inf\n",
            "[LightGBM] [Warning] No further splits with positive gain, best gain: -inf\n",
            "[LightGBM] [Warning] No further splits with positive gain, best gain: -inf\n",
            "[LightGBM] [Warning] No further splits with positive gain, best gain: -inf\n",
            "[LightGBM] [Warning] No further splits with positive gain, best gain: -inf\n",
            "[LightGBM] [Warning] No further splits with positive gain, best gain: -inf\n",
            "[LightGBM] [Warning] No further splits with positive gain, best gain: -inf\n",
            "[LightGBM] [Warning] No further splits with positive gain, best gain: -inf\n",
            "[LightGBM] [Warning] No further splits with positive gain, best gain: -inf\n",
            "[LightGBM] [Warning] No further splits with positive gain, best gain: -inf\n",
            "[LightGBM] [Warning] No further splits with positive gain, best gain: -inf\n",
            "[LightGBM] [Warning] No further splits with positive gain, best gain: -inf\n",
            "[LightGBM] [Warning] No further splits with positive gain, best gain: -inf\n",
            "[LightGBM] [Warning] No further splits with positive gain, best gain: -inf\n",
            "[LightGBM] [Warning] No further splits with positive gain, best gain: -inf\n",
            "[LightGBM] [Warning] No further splits with positive gain, best gain: -inf\n",
            "[LightGBM] [Warning] No further splits with positive gain, best gain: -inf\n",
            "[LightGBM] [Warning] No further splits with positive gain, best gain: -inf\n",
            "[LightGBM] [Warning] No further splits with positive gain, best gain: -inf\n",
            "[LightGBM] [Warning] No further splits with positive gain, best gain: -inf\n",
            "[LightGBM] [Warning] No further splits with positive gain, best gain: -inf\n",
            "[LightGBM] [Warning] No further splits with positive gain, best gain: -inf\n",
            "[LightGBM] [Warning] No further splits with positive gain, best gain: -inf\n",
            "[LightGBM] [Warning] No further splits with positive gain, best gain: -inf\n",
            "[LightGBM] [Warning] No further splits with positive gain, best gain: -inf\n",
            "[LightGBM] [Warning] No further splits with positive gain, best gain: -inf\n",
            "[LightGBM] [Warning] No further splits with positive gain, best gain: -inf\n",
            "[LightGBM] [Warning] No further splits with positive gain, best gain: -inf\n",
            "[LightGBM] [Warning] No further splits with positive gain, best gain: -inf\n",
            "[LightGBM] [Warning] No further splits with positive gain, best gain: -inf\n",
            "[LightGBM] [Warning] No further splits with positive gain, best gain: -inf\n",
            "[LightGBM] [Warning] No further splits with positive gain, best gain: -inf\n",
            "[LightGBM] [Warning] No further splits with positive gain, best gain: -inf\n",
            "[LightGBM] [Warning] No further splits with positive gain, best gain: -inf\n",
            "[LightGBM] [Warning] No further splits with positive gain, best gain: -inf\n",
            "[LightGBM] [Warning] No further splits with positive gain, best gain: -inf\n",
            "[LightGBM] [Warning] No further splits with positive gain, best gain: -inf\n",
            "[LightGBM] [Warning] No further splits with positive gain, best gain: -inf\n",
            "[LightGBM] [Warning] No further splits with positive gain, best gain: -inf\n",
            "[LightGBM] [Warning] No further splits with positive gain, best gain: -inf\n",
            "[LightGBM] [Warning] No further splits with positive gain, best gain: -inf\n",
            "[LightGBM] [Warning] No further splits with positive gain, best gain: -inf\n",
            "[LightGBM] [Warning] No further splits with positive gain, best gain: -inf\n",
            "[LightGBM] [Warning] No further splits with positive gain, best gain: -inf\n",
            "[LightGBM] [Warning] No further splits with positive gain, best gain: -inf\n",
            "[LightGBM] [Warning] No further splits with positive gain, best gain: -inf\n",
            "[LightGBM] [Warning] No further splits with positive gain, best gain: -inf\n",
            "[LightGBM] [Warning] No further splits with positive gain, best gain: -inf\n",
            "[LightGBM] [Warning] No further splits with positive gain, best gain: -inf\n",
            "[LightGBM] [Warning] No further splits with positive gain, best gain: -inf\n",
            "[LightGBM] [Warning] No further splits with positive gain, best gain: -inf\n",
            "[LightGBM] [Warning] No further splits with positive gain, best gain: -inf\n",
            "[LightGBM] [Warning] No further splits with positive gain, best gain: -inf\n",
            "[LightGBM] [Warning] No further splits with positive gain, best gain: -inf\n",
            "[LightGBM] [Warning] No further splits with positive gain, best gain: -inf\n",
            "[LightGBM] [Warning] No further splits with positive gain, best gain: -inf\n"
          ]
        },
        {
          "name": "stderr",
          "output_type": "stream",
          "text": [
            "2025/01/08 00:12:32 WARNING mlflow.models.model: Model logged without a signature and input example. Please set `input_example` parameter when logging the model to auto infer the model signature.\n"
          ]
        },
        {
          "name": "stdout",
          "output_type": "stream",
          "text": [
            "Model: LightGBM, AUC: 0.7252, Accuracy: 0.7391, F2-score: 0.3843, F3-score: 0.4592, Best Threshold: 0.49, Business Cost: 27236\n"
          ]
        },
        {
          "name": "stderr",
          "output_type": "stream",
          "text": [
            "2025/01/08 00:13:09 WARNING mlflow.models.model: Model logged without a signature and input example. Please set `input_example` parameter when logging the model to auto infer the model signature.\n"
          ]
        },
        {
          "name": "stdout",
          "output_type": "stream",
          "text": [
            "Model: Logistic Regression, AUC: 0.7233, Accuracy: 0.7627, F2-score: 0.3764, F3-score: 0.4592, Best Threshold: 0.53, Business Cost: 27477\n"
          ]
        },
        {
          "name": "stderr",
          "output_type": "stream",
          "text": [
            "2025/01/08 00:17:26 WARNING mlflow.models.model: Model logged without a signature and input example. Please set `input_example` parameter when logging the model to auto infer the model signature.\n"
          ]
        },
        {
          "name": "stdout",
          "output_type": "stream",
          "text": [
            "Model: Random Forest, AUC: 0.7237, Accuracy: 0.7514, F2-score: 0.3772, F3-score: 0.4592, Best Threshold: 0.46, Business Cost: 27544\n"
          ]
        }
      ],
      "source": [
        "# Entraîner et suivre les modèles\n",
        "for model_name, model in models.items():\n",
        "    with mlflow.start_run(run_name=model_name):\n",
        "        # Entraînement\n",
        "        model.fit(X_train_top, y_train)\n",
        "        y_pred_proba = model.predict_proba(X_test_top)[:, 1] # Probabilité de faire défaut\n",
        "        \n",
        "        # Optimisation du seuil\n",
        "        best_threshold, min_cost = optimize_threshold(y_test, y_pred_proba, cost_fn=10, cost_fp=1)\n",
        "        y_pred = (y_pred_proba >= best_threshold).astype(int)\n",
        "         \n",
        "        # Calcul des métriques\n",
        "        auc, accuracy, f2 = calculate_metrics(y_test, y_pred, y_pred_proba)\n",
        "        \n",
        "        # Log des métriques\n",
        "        mlflow.log_metric(\"AUC\", auc)\n",
        "        mlflow.log_metric(\"Accuracy\", accuracy)\n",
        "        mlflow.log_metric(\"F2-score\", f2)\n",
        "        mlflow.log_metric(\"F3-score\", f3)\n",
        "        mlflow.log_metric(\"Business Cost\", min_cost)\n",
        "        mlflow.log_param(\"Best Threshold\", best_threshold)\n",
        "        \n",
        "        # Log du modèle\n",
        "        mlflow.sklearn.log_model(model, model_name)\n",
        "        \n",
        "        print(f\"Model: {model_name}, AUC: {auc:.4f}, Accuracy: {accuracy:.4f}, F2-score: {f2:.4f}, \"\n",
        "              f\"F3-score: {f3:.4f}, Best Threshold: {best_threshold:.2f}, Business Cost: {min_cost}\")"
      ]
    },
    {
      "cell_type": "markdown",
      "metadata": {},
      "source": [
        "**Affichage des runs avec mlflow ui et ngrok**:"
      ]
    },
    {
      "cell_type": "code",
      "execution_count": null,
      "metadata": {},
      "outputs": [],
      "source": [
        "# Installation de ngrok pour exposer le serveur web\n",
        "!pip install pyngrok"
      ]
    },
    {
      "cell_type": "code",
      "execution_count": 71,
      "metadata": {},
      "outputs": [
        {
          "name": "stdout",
          "output_type": "stream",
          "text": [
            "MLflow Tracking UI: https://46f0-2a01-cb0d-a076-82fb-797e-5366-b3ab-5203.ngrok-free.app\n"
          ]
        }
      ],
      "source": [
        "# On crée un ngrok  dans https://dashboard.ngrok.com/auth puis le code de \"your authtoken\"\n",
        "from pyngrok import ngrok\n",
        "# Terminate open tunnels if exist\n",
        "ngrok.kill()\n",
        "\n",
        "# Configuration de l'authentification sur ngrok\n",
        "NGROK_AUTH_TOKEN  = '2qqxhNrwNmvZFKJQoavME6A7bAh_3jMsGH7o95sJ9Pbtj6zDJ'\n",
        "ngrok.set_auth_token(NGROK_AUTH_TOKEN)\n",
        "\n",
        "# Ouvrir un tunnel HTTPs sur le port 5000 pour http://localhost:5000\n",
        "ngrok_tunnel = ngrok.connect(addr=\"5001\", proto=\"http\", bind_tls=True)\n",
        "print(\"MLflow Tracking UI:\", ngrok_tunnel.public_url)"
      ]
    },
    {
      "cell_type": "code",
      "execution_count": null,
      "metadata": {},
      "outputs": [
        {
          "name": "stdout",
          "output_type": "stream",
          "text": [
            "^C\n"
          ]
        }
      ],
      "source": [
        "# Lancer le serveur MLflow\n",
        "!mlflow ui --port 5001"
      ]
    },
    {
      "cell_type": "code",
      "execution_count": 1,
      "metadata": {},
      "outputs": [
        {
          "ename": "NameError",
          "evalue": "name 'top_features' is not defined",
          "output_type": "error",
          "traceback": [
            "\u001b[1;31m---------------------------------------------------------------------------\u001b[0m",
            "\u001b[1;31mNameError\u001b[0m                                 Traceback (most recent call last)",
            "Cell \u001b[1;32mIn[1], line 1\u001b[0m\n\u001b[1;32m----> 1\u001b[0m \u001b[43mtop_features\u001b[49m\n",
            "\u001b[1;31mNameError\u001b[0m: name 'top_features' is not defined"
          ]
        }
      ],
      "source": [
        "top_features"
      ]
    }
  ],
  "metadata": {
    "colab": {
      "provenance": [],
      "toc_visible": true
    },
    "kernelspec": {
      "display_name": "Python 3",
      "language": "python",
      "name": "python3"
    },
    "language_info": {
      "codemirror_mode": {
        "name": "ipython",
        "version": 3
      },
      "file_extension": ".py",
      "mimetype": "text/x-python",
      "name": "python",
      "nbconvert_exporter": "python",
      "pygments_lexer": "ipython3",
      "version": "3.11.9"
    }
  },
  "nbformat": 4,
  "nbformat_minor": 0
}
